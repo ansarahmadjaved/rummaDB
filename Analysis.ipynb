{
 "cells": [
  {
   "cell_type": "code",
   "execution_count": 1,
   "metadata": {},
   "outputs": [],
   "source": [
    "import pandas as pd\n",
    "import numpy as np\n",
    "import seaborn as sns\n",
    "from matplotlib import pyplot as plt"
   ]
  },
  {
   "cell_type": "code",
   "execution_count": 2,
   "metadata": {},
   "outputs": [],
   "source": [
    "rumma = pd.read_csv('RummaDB.csv', low_memory=False)"
   ]
  },
  {
   "cell_type": "code",
   "execution_count": null,
   "metadata": {},
   "outputs": [
    {
     "data": {
      "text/plain": [
       "gene\n",
       "CDKN1A             23857\n",
       "CD44               23509\n",
       "TXNIP              23295\n",
       "SCD                23087\n",
       "CCND1              22423\n",
       "                   ...  \n",
       "MIR548AB               1\n",
       "RNA5SP291              1\n",
       "RNU6-1097P             1\n",
       "ENSG00000281771        1\n",
       "LSP1P1                 1\n",
       "Name: count, Length: 62217, dtype: int64"
      ]
     },
     "execution_count": 6,
     "metadata": {},
     "output_type": "execute_result"
    }
   ],
   "source": [
    "rumma['gene'].value_counts()"
   ]
  },
  {
   "cell_type": "code",
   "execution_count": null,
   "metadata": {},
   "outputs": [
    {
     "name": "stderr",
     "output_type": "stream",
     "text": [
      "/tmp/ipykernel_271394/3599492821.py:3: PerformanceWarning: The following operation may generate 5309341958 cells in the resulting pandas object.\n",
      "  rumma_up = rumma_up.pivot_table(index='term', columns='gene', fill_value='Dir')\n"
     ]
    },
    {
     "ename": "",
     "evalue": "",
     "output_type": "error",
     "traceback": [
      "\u001b[1;31mThe Kernel crashed while executing code in the current cell or a previous cell. \n",
      "\u001b[1;31mPlease review the code in the cell(s) to identify a possible cause of the failure. \n",
      "\u001b[1;31mClick <a href='https://aka.ms/vscodeJupyterKernelCrash'>here</a> for more info. \n",
      "\u001b[1;31mView Jupyter <a href='command:jupyter.viewOutput'>log</a> for further details."
     ]
    }
   ],
   "source": [
    "# rumma_up = rumma[rumma.term.str.contains('up')]\n",
    "# rumma_up['Dir'] = 0\n",
    "# rumma_up = rumma_up.pivot_table(index='term', columns='gene', fill_value='Dir')"
   ]
  },
  {
   "cell_type": "code",
   "execution_count": null,
   "metadata": {},
   "outputs": [],
   "source": [
    "rumma_GSE = rumma['term']"
   ]
  },
  {
   "cell_type": "code",
   "execution_count": 184,
   "metadata": {},
   "outputs": [],
   "source": [
    "archs4 = pd.read_pickle('/home/sbl/Documents/Arch4/ARCHS4_Meta_2.4.pkl')"
   ]
  },
  {
   "cell_type": "code",
   "execution_count": null,
   "metadata": {},
   "outputs": [],
   "source": [
    "# rumma_GSE = set(rumma_GSE.values)\n",
    "# rumma_GSE = list(rumma_GSE)\n",
    "# rumma_GSE = [i.split('-')[0] for i in rumma_GSE]\n",
    "# rumma_GSE = list(set(rumma_GSE))"
   ]
  },
  {
   "cell_type": "markdown",
   "metadata": {},
   "source": [
    "#### Exploring Metadata"
   ]
  },
  {
   "cell_type": "code",
   "execution_count": 267,
   "metadata": {},
   "outputs": [],
   "source": [
    "import json\n",
    "with open('rummaDB_meta.json') as f:\n",
    "    rummaDB_meta = json.load(f)"
   ]
  },
  {
   "cell_type": "code",
   "execution_count": 268,
   "metadata": {
    "notebookRunGroups": {
     "groupValue": "1"
    }
   },
   "outputs": [],
   "source": [
    "rummaDB_meta_keys = list(rummaDB_meta.keys())"
   ]
  },
  {
   "cell_type": "code",
   "execution_count": null,
   "metadata": {},
   "outputs": [
    {
     "name": "stdout",
     "output_type": "stream",
     "text": [
      "GSE245402\n",
      "{'titles': {'0': 'caco 2 cells nutrient depleted vehicle rep cell line wt nd', '1': 'caco 2 cells nutrient depleted bafa1 rep cell line wt nd+100nm bafilomycin a1', '2': 'caco 2 cells nutrient rich vehicle rep cell line wt nr', '3': 'caco 2 cells nutrient rich bafa1 rep cell line wt nr+100nm bafilomycin a1'}, 'samples': {'0': ['GSM7842100', 'GSM7842101', 'GSM7842102'], '1': ['GSM7842103', 'GSM7842104', 'GSM7842105'], '2': ['GSM7842094', 'GSM7842095', 'GSM7842096'], '3': ['GSM7842097', 'GSM7842098', 'GSM7842099']}, 'silhouette_score': 0.13209539876405668}\n",
      "GSE253189\n",
      "{'titles': {'0': 'rnvu1 18 / cell line a549 adenocarcinomic human alveolar basal epithelial cells knock', '1': 'wt cell line a549 adenocarcinomic human alveolar basal epithelial cells wild type'}, 'samples': {'0': ['GSM8016133', 'GSM8016134', 'GSM8016135'], '1': ['GSM8016130', 'GSM8016131', 'GSM8016132']}, 'silhouette_score': 0.4158263971786145}\n",
      "GSE212330\n",
      "{'titles': {'0': 'aza tak cell line u937 aml azacitidine + 981', '1': 'dmso cell line u937 aml', '2': 'tak cell line u937 aml 981', '3': 'aza cell line u937 aml azacitidine'}, 'samples': {'0': ['GSM6524028', 'GSM6524032', 'GSM6524036'], '1': ['GSM6524025', 'GSM6524029', 'GSM6524033'], '2': ['GSM6524027', 'GSM6524031', 'GSM6524035'], '3': ['GSM6524026', 'GSM6524030', 'GSM6524034']}, 'silhouette_score': -0.08714822348264305}\n",
      "GSE261105\n",
      "{'titles': {'0': 'transcriptomic profiling hbg gene expression hek295t cell line human embryonic kidney wild type transfected plasmids encoding circular grnas targeting', '1': 'transcriptomic profiling hbg gene expression hek296t cell line human embryonic kidney wild type transfected plasmids encoding grnas targeting mneongreen', '2': 'transcriptomic profiling hbg gene expression hek293t cell line human embryonic kidney wild type transfected plasmids encoding u6 grnas targeting', '3': 'transcriptomic profiling hbg gene expression hek294t cell line human embryonic kidney wild type transfected plasmids encoding linear grnas targeting'}, 'samples': {'0': ['GSM8135210', 'GSM8135211', 'GSM8135212'], '1': ['GSM8135213', 'GSM8135214', 'GSM8135215'], '2': ['GSM8135204', 'GSM8135205', 'GSM8135206'], '3': ['GSM8135207', 'GSM8135208', 'GSM8135209']}, 'silhouette_score': -0.15333120498190442}\n",
      "GSE201276\n",
      "{'titles': {'0': 'granulosa cells gender female condition bpoi', '1': 'granulosa cells gender female condition control'}, 'samples': {'0': ['GSM6057172', 'GSM6057173', 'GSM6057174', 'GSM6057175', 'GSM6057176', 'GSM6057177'], '1': ['GSM6057180', 'GSM6057181', 'GSM6057182']}, 'silhouette_score': 0.30182334652915754}\n"
     ]
    }
   ],
   "source": [
    "for i in rummaDB_meta_keys[:5]:\n",
    "    print(i)\n",
    "    print(rummaDB_meta[i])"
   ]
  },
  {
   "cell_type": "markdown",
   "metadata": {},
   "source": [
    "#### ARSCH4 amd Rumma Integ"
   ]
  },
  {
   "cell_type": "code",
   "execution_count": 185,
   "metadata": {
    "notebookRunGroups": {
     "groupValue": "1"
    }
   },
   "outputs": [],
   "source": [
    "archs4 = archs4.set_index('sample')"
   ]
  },
  {
   "cell_type": "code",
   "execution_count": null,
   "metadata": {},
   "outputs": [],
   "source": [
    "# archs4[~ archs4['characteristics_ch1'].str.contains('treatment')]['characteristics_ch1'].head(30).values\n",
    "def count_meta(i):\n",
    "    total_param = i.count(':')\n",
    "    all_params = []\n",
    "    for k in range(0,total_param):\n",
    "        try:all_params.append(i.split(':')[k].split(',')[1])\n",
    "        except:all_params.append(i.split(':')[k].split(',')[0])        \n",
    "    return all_params"
   ]
  },
  {
   "cell_type": "code",
   "execution_count": null,
   "metadata": {},
   "outputs": [],
   "source": [
    "all_params = [count_meta(i) for i in list(archs4['characteristics_ch1'].values)]"
   ]
  },
  {
   "cell_type": "code",
   "execution_count": null,
   "metadata": {},
   "outputs": [],
   "source": [
    "from collections import Counter\n",
    "def count_word_occurrences(list_of_lists):\n",
    "    # Flatten the list of lists into a single list\n",
    "    flat_list = [word for sublist in list_of_lists for word in sublist]\n",
    "    # Count occurrences of each word\n",
    "    word_counts = Counter(flat_list)\n",
    "    return word_counts"
   ]
  },
  {
   "cell_type": "code",
   "execution_count": null,
   "metadata": {},
   "outputs": [],
   "source": [
    "word_occurrences = count_word_occurrences(all_params)\n",
    "df = pd.DataFrame()\n",
    "df['Parameter'] = word_occurrences.keys()\n",
    "df['Times'] = word_occurrences.values()"
   ]
  },
  {
   "cell_type": "code",
   "execution_count": null,
   "metadata": {},
   "outputs": [
    {
     "data": {
      "text/plain": [
       "': siNT'"
      ]
     },
     "execution_count": 10,
     "metadata": {},
     "output_type": "execute_result"
    }
   ],
   "source": [
    "# archs4['characteristics_ch1'].str.split(i).str[1]\n",
    "archs4['characteristics_ch1'].values[0].split('treatment')[1].split(',')[0]"
   ]
  },
  {
   "cell_type": "code",
   "execution_count": null,
   "metadata": {},
   "outputs": [],
   "source": [
    "# meta_values = df.sort_values(by='Times', ascending=False).head(30)['Parameter'].values\n",
    "# i = meta_values[0]\n",
    "archs4_rumma_meta = [] \n",
    "for i in archs4['characteristics_ch1'].values:\n",
    "    data_dict = {}\n",
    "    try:\n",
    "        for j in meta_values:\n",
    "            if i.split(j)[1].startswith(\":\"):\n",
    "                data_dict[j] = i.split(j)[1].split(',')[0].replace(':','')\n",
    "    except:pass\n",
    "    archs4_rumma_meta.append(data_dict)"
   ]
  },
  {
   "cell_type": "code",
   "execution_count": null,
   "metadata": {},
   "outputs": [],
   "source": [
    "archs4_rumma_meta = pd.DataFrame()\n",
    "archs4_rumma_meta.index = archs4.index\n",
    "archs4_rumma_meta['Treatment'] = archs4['characteristics_ch1'].str.split('treatment').str[1].str.split(',').str[0].str.replace(\":\",'').values\n",
    "archs4_rumma_meta['Tissue'] = archs4['characteristics_ch1'].str.split('tissue').str[1].str.split(',').str[0].str.replace(\":\",'').values\n",
    "archs4_rumma_meta['Cell Line'] = archs4['characteristics_ch1'].str.split('cell line').str[1].str.split(',').str[0].str.replace(\":\",'').values"
   ]
  },
  {
   "cell_type": "code",
   "execution_count": null,
   "metadata": {},
   "outputs": [],
   "source": [
    "# archs4_rumma_meta[\"Series\"] = archs4_rumma_meta.index.map(archs4['series_id'].to_dict())\n",
    "# archs4_rumma_meta.to_csv('archs4_rumma_meta.to_csv')"
   ]
  },
  {
   "cell_type": "code",
   "execution_count": null,
   "metadata": {},
   "outputs": [],
   "source": [
    "# rumma.loc[:10000]\n",
    "# all_genes_rumma = rumma['gene'].values\n",
    "# all_genes_rumma = Counter(all_genes_rumma)\n",
    "df = pd.DataFrame()\n",
    "df['Genes'] = all_genes_rumma.keys()\n",
    "df['Frequency'] = all_genes_rumma.values()"
   ]
  },
  {
   "cell_type": "code",
   "execution_count": null,
   "metadata": {},
   "outputs": [
    {
     "name": "stderr",
     "output_type": "stream",
     "text": [
      "/tmp/ipykernel_283522/2829821521.py:1: UserWarning: \n",
      "\n",
      "`distplot` is a deprecated function and will be removed in seaborn v0.14.0.\n",
      "\n",
      "Please adapt your code to use either `displot` (a figure-level function with\n",
      "similar flexibility) or `histplot` (an axes-level function for histograms).\n",
      "\n",
      "For a guide to updating your code to use the new functions, please see\n",
      "https://gist.github.com/mwaskom/de44147ed2974457ad6372750bbe5751\n",
      "\n",
      "  sns.distplot(df['Frequency'])\n"
     ]
    },
    {
     "data": {
      "image/png": "[encoded data removed]",
      "text/plain": [
       "<Figure size 640x480 with 1 Axes>"
      ]
     },
     "metadata": {},
     "output_type": "display_data"
    }
   ],
   "source": [
    "sns.distplot(df['Frequency'])\n",
    "plt.show()"
   ]
  },
  {
   "cell_type": "code",
   "execution_count": null,
   "metadata": {},
   "outputs": [
    {
     "data": {
      "text/plain": [
       "count    62217.000000\n",
       "mean      2387.086439\n",
       "std       3641.762106\n",
       "min          1.000000\n",
       "25%        157.000000\n",
       "50%        610.000000\n",
       "75%       3067.000000\n",
       "max      23857.000000\n",
       "Name: Frequency, dtype: float64"
      ]
     },
     "execution_count": 249,
     "metadata": {},
     "output_type": "execute_result"
    }
   ],
   "source": [
    "df['Frequency'].describe()"
   ]
  },
  {
   "cell_type": "code",
   "execution_count": null,
   "metadata": {},
   "outputs": [
    {
     "data": {
      "image/png": "[encoded data removed]",
      "text/plain": [
       "<Figure size 640x480 with 1 Axes>"
      ]
     },
     "metadata": {},
     "output_type": "display_data"
    }
   ],
   "source": [
    "# df = df[df['Frequency'] >= 150]\n",
    "sns.histplot(df['Frequency'])\n",
    "plt.show()"
   ]
  },
  {
   "cell_type": "code",
   "execution_count": null,
   "metadata": {},
   "outputs": [
    {
     "name": "stdout",
     "output_type": "stream",
     "text": [
      "<class 'pandas.core.frame.DataFrame'>\n",
      "RangeIndex: 148517357 entries, 0 to 148517356\n",
      "Data columns (total 2 columns):\n",
      " #   Column  Dtype \n",
      "---  ------  ----- \n",
      " 0   term    object\n",
      " 1   gene    object\n",
      "dtypes: object(2)\n",
      "memory usage: 2.2+ GB\n"
     ]
    }
   ],
   "source": [
    "rumma.info()"
   ]
  },
  {
   "cell_type": "code",
   "execution_count": null,
   "metadata": {},
   "outputs": [
    {
     "name": "stdout",
     "output_type": "stream",
     "text": [
      "<class 'pandas.core.frame.DataFrame'>\n",
      "RangeIndex: 148517357 entries, 0 to 148517356\n",
      "Data columns (total 2 columns):\n",
      " #   Column  Dtype   \n",
      "---  ------  -----   \n",
      " 0   term    category\n",
      " 1   gene    category\n",
      "dtypes: category(2)\n",
      "memory usage: 1.1 GB\n"
     ]
    }
   ],
   "source": [
    "rumma = rumma.astype('category')\n",
    "rumma.info()"
   ]
  },
  {
   "cell_type": "code",
   "execution_count": 28,
   "metadata": {},
   "outputs": [],
   "source": [
    "rumma_chunk_1 = rumma.iloc[:1000]\n",
    "rumma_chunk_2 = rumma.iloc[1000:2000]"
   ]
  },
  {
   "cell_type": "code",
   "execution_count": 29,
   "metadata": {},
   "outputs": [
    {
     "name": "stderr",
     "output_type": "stream",
     "text": [
      "/tmp/ipykernel_314089/429875271.py:1: SettingWithCopyWarning: \n",
      "A value is trying to be set on a copy of a slice from a DataFrame.\n",
      "Try using .loc[row_indexer,col_indexer] = value instead\n",
      "\n",
      "See the caveats in the documentation: https://pandas.pydata.org/pandas-docs/stable/user_guide/indexing.html#returning-a-view-versus-a-copy\n",
      "  rumma_chunk_1['Direction'] = rumma_chunk_1['term'].apply(lambda x: 1 if x.endswith('up') else -1).values\n",
      "/tmp/ipykernel_314089/429875271.py:2: SettingWithCopyWarning: \n",
      "A value is trying to be set on a copy of a slice from a DataFrame.\n",
      "Try using .loc[row_indexer,col_indexer] = value instead\n",
      "\n",
      "See the caveats in the documentation: https://pandas.pydata.org/pandas-docs/stable/user_guide/indexing.html#returning-a-view-versus-a-copy\n",
      "  rumma_chunk_2['Direction'] = rumma_chunk_2['term'].apply(lambda x: 1 if x.endswith('up') else -1).values\n"
     ]
    }
   ],
   "source": [
    "rumma_chunk_1['Direction'] = rumma_chunk_1['term'].apply(lambda x: 1 if x.endswith('up') else -1).values\n",
    "rumma_chunk_2['Direction'] = rumma_chunk_2['term'].apply(lambda x: 1 if x.endswith('up') else -1).values"
   ]
  },
  {
   "cell_type": "code",
   "execution_count": 30,
   "metadata": {},
   "outputs": [],
   "source": [
    "rumma_chunk_1_pivot = rumma_chunk_1.pivot_table(index='term', columns='gene', values='Direction', fill_value=0)\n",
    "rumma_chunk_2_pivot = rumma_chunk_2.pivot_table(index='term', columns='gene', values='Direction', fill_value=0)"
   ]
  },
  {
   "cell_type": "code",
   "execution_count": null,
   "metadata": {},
   "outputs": [
    {
     "data": {
      "text/html": [
       "<div>\n",
       "<style scoped>\n",
       "    .dataframe tbody tr th:only-of-type {\n",
       "        vertical-align: middle;\n",
       "    }\n",
       "\n",
       "    .dataframe tbody tr th {\n",
       "        vertical-align: top;\n",
       "    }\n",
       "\n",
       "    .dataframe thead th {\n",
       "        text-align: right;\n",
       "    }\n",
       "</style>\n",
       "<table border=\"1\" class=\"dataframe\">\n",
       "  <thead>\n",
       "    <tr style=\"text-align: right;\">\n",
       "      <th>gene</th>\n",
       "      <th>NBN</th>\n",
       "      <th>RSAD1</th>\n",
       "      <th>SH3TC1</th>\n",
       "      <th>TMC6</th>\n",
       "    </tr>\n",
       "    <tr>\n",
       "      <th>term</th>\n",
       "      <th></th>\n",
       "      <th></th>\n",
       "      <th></th>\n",
       "      <th></th>\n",
       "    </tr>\n",
       "  </thead>\n",
       "  <tbody>\n",
       "    <tr>\n",
       "      <th>GSE242199-2-vs-7-human up</th>\n",
       "      <td>1.0</td>\n",
       "      <td>1.0</td>\n",
       "      <td>1.0</td>\n",
       "      <td>1.0</td>\n",
       "    </tr>\n",
       "    <tr>\n",
       "      <th>GSE211354,GSE211355-1-vs-9-human up</th>\n",
       "      <td>1.0</td>\n",
       "      <td>1.0</td>\n",
       "      <td>1.0</td>\n",
       "      <td>1.0</td>\n",
       "    </tr>\n",
       "    <tr>\n",
       "      <th>GSE242199-2-vs-7-human dn</th>\n",
       "      <td>0.0</td>\n",
       "      <td>0.0</td>\n",
       "      <td>0.0</td>\n",
       "      <td>0.0</td>\n",
       "    </tr>\n",
       "    <tr>\n",
       "      <th>GSE242199-2-vs-7-human up</th>\n",
       "      <td>0.0</td>\n",
       "      <td>0.0</td>\n",
       "      <td>0.0</td>\n",
       "      <td>0.0</td>\n",
       "    </tr>\n",
       "  </tbody>\n",
       "</table>\n",
       "</div>"
      ],
      "text/plain": [
       "gene                                 NBN  RSAD1  SH3TC1  TMC6\n",
       "term                                                         \n",
       "GSE242199-2-vs-7-human up            1.0    1.0     1.0   1.0\n",
       "GSE211354,GSE211355-1-vs-9-human up  1.0    1.0     1.0   1.0\n",
       "GSE242199-2-vs-7-human dn            0.0    0.0     0.0   0.0\n",
       "GSE242199-2-vs-7-human up            0.0    0.0     0.0   0.0"
      ]
     },
     "execution_count": 25,
     "metadata": {},
     "output_type": "execute_result"
    }
   ],
   "source": [
    "pd.concat([rumma_chunk_1_pivot,rumma_chunk_2_pivot]).dropna(axis=1)"
   ]
  },
  {
   "cell_type": "code",
   "execution_count": null,
   "metadata": {},
   "outputs": [
    {
     "data": {
      "text/plain": [
       "Text(0.5, 1.0, 'Total no of genes in a study')"
      ]
     },
     "execution_count": 33,
     "metadata": {},
     "output_type": "execute_result"
    },
    {
     "data": {
      "image/png": "[encoded data removed]",
      "text/plain": [
       "<Figure size 640x480 with 1 Axes>"
      ]
     },
     "metadata": {},
     "output_type": "display_data"
    }
   ],
   "source": [
    "# for chunks in \n",
    "sns.histplot(rumma['term'].value_counts().values)\n",
    "plt.title('Total no of genes in a study')"
   ]
  },
  {
   "cell_type": "code",
   "execution_count": null,
   "metadata": {},
   "outputs": [],
   "source": [
    "# archs4_rumma_meta = pd.read_csv('archs4_rumma_meta.csv', low_memory=False)\n",
    "archs4_rumma_meta.loc[archs4_rumma_meta['Treatment'].dropna().index]['Series'].values"
   ]
  },
  {
   "cell_type": "code",
   "execution_count": 207,
   "metadata": {},
   "outputs": [],
   "source": [
    "archs4_rumma_meta = pd.read_csv('archs4_rumma_meta.csv', low_memory=False)"
   ]
  },
  {
   "cell_type": "code",
   "execution_count": null,
   "metadata": {},
   "outputs": [],
   "source": []
  },
  {
   "cell_type": "code",
   "execution_count": null,
   "metadata": {},
   "outputs": [],
   "source": [
    "rumma_ids = list(set(rumma['term'].values))\n",
    "rumma_genes = list(set(rumma['gene'].values))"
   ]
  },
  {
   "cell_type": "code",
   "execution_count": null,
   "metadata": {},
   "outputs": [],
   "source": [
    "archs4_rumma_ids = pd.Series(rumma_ids).str.contains('|'.join(archs4_rumma_meta.loc[archs4_rumma_meta['Treatment'].dropna().index]['Series'].values), case=False)"
   ]
  },
  {
   "cell_type": "code",
   "execution_count": null,
   "metadata": {},
   "outputs": [
    {
     "data": {
      "text/html": [
       "<div>\n",
       "<style scoped>\n",
       "    .dataframe tbody tr th:only-of-type {\n",
       "        vertical-align: middle;\n",
       "    }\n",
       "\n",
       "    .dataframe tbody tr th {\n",
       "        vertical-align: top;\n",
       "    }\n",
       "\n",
       "    .dataframe thead th {\n",
       "        text-align: right;\n",
       "    }\n",
       "</style>\n",
       "<table border=\"1\" class=\"dataframe\">\n",
       "  <thead>\n",
       "    <tr style=\"text-align: right;\">\n",
       "      <th></th>\n",
       "      <th>Treatment</th>\n",
       "      <th>Tissue</th>\n",
       "      <th>Cell Line</th>\n",
       "    </tr>\n",
       "    <tr>\n",
       "      <th>sample</th>\n",
       "      <th></th>\n",
       "      <th></th>\n",
       "      <th></th>\n",
       "    </tr>\n",
       "  </thead>\n",
       "  <tbody>\n",
       "    <tr>\n",
       "      <th>GSM1000981</th>\n",
       "      <td>siNT</td>\n",
       "      <td>NaN</td>\n",
       "      <td>OCI-LY1</td>\n",
       "    </tr>\n",
       "    <tr>\n",
       "      <th>GSM1000982</th>\n",
       "      <td>siNT</td>\n",
       "      <td>NaN</td>\n",
       "      <td>OCI-LY1</td>\n",
       "    </tr>\n",
       "    <tr>\n",
       "      <th>GSM1000983</th>\n",
       "      <td>siNT</td>\n",
       "      <td>NaN</td>\n",
       "      <td>OCI-LY1</td>\n",
       "    </tr>\n",
       "    <tr>\n",
       "      <th>GSM1000984</th>\n",
       "      <td>siBCL6</td>\n",
       "      <td>NaN</td>\n",
       "      <td>OCI-LY1</td>\n",
       "    </tr>\n",
       "    <tr>\n",
       "      <th>GSM1000985</th>\n",
       "      <td>siBCL6</td>\n",
       "      <td>NaN</td>\n",
       "      <td>OCI-LY1</td>\n",
       "    </tr>\n",
       "    <tr>\n",
       "      <th>...</th>\n",
       "      <td>...</td>\n",
       "      <td>...</td>\n",
       "      <td>...</td>\n",
       "    </tr>\n",
       "    <tr>\n",
       "      <th>GSM994759</th>\n",
       "      <td>DMSO</td>\n",
       "      <td>NaN</td>\n",
       "      <td>HT</td>\n",
       "    </tr>\n",
       "    <tr>\n",
       "      <th>GSM994760</th>\n",
       "      <td>iEZH</td>\n",
       "      <td>NaN</td>\n",
       "      <td>HT</td>\n",
       "    </tr>\n",
       "    <tr>\n",
       "      <th>GSM994761</th>\n",
       "      <td>DMSO</td>\n",
       "      <td>NaN</td>\n",
       "      <td>SUDHL6</td>\n",
       "    </tr>\n",
       "    <tr>\n",
       "      <th>GSM994762</th>\n",
       "      <td>iEZH</td>\n",
       "      <td>NaN</td>\n",
       "      <td>SUDHL6</td>\n",
       "    </tr>\n",
       "    <tr>\n",
       "      <th>GSM996202</th>\n",
       "      <td>incubated for 1h with GM-CSF (5 ng/mL)</td>\n",
       "      <td>NaN</td>\n",
       "      <td>NaN</td>\n",
       "    </tr>\n",
       "  </tbody>\n",
       "</table>\n",
       "<p>251469 rows × 3 columns</p>\n",
       "</div>"
      ],
      "text/plain": [
       "                                          Treatment Tissue Cell Line\n",
       "sample                                                              \n",
       "GSM1000981                                     siNT    NaN   OCI-LY1\n",
       "GSM1000982                                     siNT    NaN   OCI-LY1\n",
       "GSM1000983                                     siNT    NaN   OCI-LY1\n",
       "GSM1000984                                   siBCL6    NaN   OCI-LY1\n",
       "GSM1000985                                   siBCL6    NaN   OCI-LY1\n",
       "...                                             ...    ...       ...\n",
       "GSM994759                                      DMSO    NaN        HT\n",
       "GSM994760                                      iEZH    NaN        HT\n",
       "GSM994761                                      DMSO    NaN    SUDHL6\n",
       "GSM994762                                      iEZH    NaN    SUDHL6\n",
       "GSM996202    incubated for 1h with GM-CSF (5 ng/mL)    NaN       NaN\n",
       "\n",
       "[251469 rows x 3 columns]"
      ]
     },
     "execution_count": 23,
     "metadata": {},
     "output_type": "execute_result"
    }
   ],
   "source": [
    "# pd.Series(rumma_ids).str.contains('|'.join(archs4_rumma_meta.loc[archs4_rumma_meta['Treatment'].dropna().index]['Series'].values), case=False)\n",
    "# '|'.join(archs4_rumma_meta.loc[archs4_rumma_meta['Treatment'].dropna().index]['Series'].values)\n",
    "archs4_rumma_meta.loc[archs4_rumma_meta['Treatment'].dropna().index]"
   ]
  },
  {
   "cell_type": "code",
   "execution_count": null,
   "metadata": {},
   "outputs": [],
   "source": [
    "archs4_rumma_ids = pd.DataFrame(rumma_ids)[archs4_rumma_ids][0].values"
   ]
  },
  {
   "cell_type": "code",
   "execution_count": null,
   "metadata": {},
   "outputs": [],
   "source": [
    "rumma_archs4 = rumma[rumma['term'].str.contains('|'.join(archs4_rumma_ids))]"
   ]
  },
  {
   "cell_type": "code",
   "execution_count": null,
   "metadata": {},
   "outputs": [],
   "source": [
    "rumma_archs4_up = rumma_archs4[rumma_archs4['term'].str.endswith('up')]"
   ]
  },
  {
   "cell_type": "code",
   "execution_count": null,
   "metadata": {},
   "outputs": [
    {
     "data": {
      "text/html": [
       "<div>\n",
       "<style scoped>\n",
       "    .dataframe tbody tr th:only-of-type {\n",
       "        vertical-align: middle;\n",
       "    }\n",
       "\n",
       "    .dataframe tbody tr th {\n",
       "        vertical-align: top;\n",
       "    }\n",
       "\n",
       "    .dataframe thead th {\n",
       "        text-align: right;\n",
       "    }\n",
       "</style>\n",
       "<table border=\"1\" class=\"dataframe\">\n",
       "  <thead>\n",
       "    <tr style=\"text-align: right;\">\n",
       "      <th>gene</th>\n",
       "      <th>A1BG-AS1</th>\n",
       "      <th>A1CF</th>\n",
       "      <th>A2M</th>\n",
       "      <th>A2M-AS1</th>\n",
       "      <th>A2ML1</th>\n",
       "      <th>A2ML1-AS2</th>\n",
       "      <th>A2MP1</th>\n",
       "      <th>A3GALT2</th>\n",
       "      <th>A4GALT</th>\n",
       "      <th>A4GNT</th>\n",
       "      <th>...</th>\n",
       "      <th>ZW10</th>\n",
       "      <th>ZWILCH</th>\n",
       "      <th>ZWINT</th>\n",
       "      <th>ZXDA</th>\n",
       "      <th>ZXDB</th>\n",
       "      <th>ZXDC</th>\n",
       "      <th>ZYG11B</th>\n",
       "      <th>ZYX</th>\n",
       "      <th>ZZEF1</th>\n",
       "      <th>ZZZ3</th>\n",
       "    </tr>\n",
       "    <tr>\n",
       "      <th>term</th>\n",
       "      <th></th>\n",
       "      <th></th>\n",
       "      <th></th>\n",
       "      <th></th>\n",
       "      <th></th>\n",
       "      <th></th>\n",
       "      <th></th>\n",
       "      <th></th>\n",
       "      <th></th>\n",
       "      <th></th>\n",
       "      <th></th>\n",
       "      <th></th>\n",
       "      <th></th>\n",
       "      <th></th>\n",
       "      <th></th>\n",
       "      <th></th>\n",
       "      <th></th>\n",
       "      <th></th>\n",
       "      <th></th>\n",
       "      <th></th>\n",
       "      <th></th>\n",
       "    </tr>\n",
       "  </thead>\n",
       "  <tbody>\n",
       "    <tr>\n",
       "      <th>GSE131747,GSE233959-3-vs-7-human up</th>\n",
       "      <td>0</td>\n",
       "      <td>0</td>\n",
       "      <td>0</td>\n",
       "      <td>0</td>\n",
       "      <td>0</td>\n",
       "      <td>0</td>\n",
       "      <td>0</td>\n",
       "      <td>0</td>\n",
       "      <td>0</td>\n",
       "      <td>0</td>\n",
       "      <td>...</td>\n",
       "      <td>0</td>\n",
       "      <td>0</td>\n",
       "      <td>0</td>\n",
       "      <td>0</td>\n",
       "      <td>0</td>\n",
       "      <td>0</td>\n",
       "      <td>0</td>\n",
       "      <td>1</td>\n",
       "      <td>0</td>\n",
       "      <td>0</td>\n",
       "    </tr>\n",
       "    <tr>\n",
       "      <th>GSE137289-7-vs-4-human up</th>\n",
       "      <td>0</td>\n",
       "      <td>0</td>\n",
       "      <td>0</td>\n",
       "      <td>0</td>\n",
       "      <td>0</td>\n",
       "      <td>0</td>\n",
       "      <td>0</td>\n",
       "      <td>0</td>\n",
       "      <td>0</td>\n",
       "      <td>0</td>\n",
       "      <td>...</td>\n",
       "      <td>0</td>\n",
       "      <td>0</td>\n",
       "      <td>0</td>\n",
       "      <td>0</td>\n",
       "      <td>0</td>\n",
       "      <td>0</td>\n",
       "      <td>0</td>\n",
       "      <td>0</td>\n",
       "      <td>0</td>\n",
       "      <td>0</td>\n",
       "    </tr>\n",
       "    <tr>\n",
       "      <th>GSE157034,GSE157036-0-vs-5-human up</th>\n",
       "      <td>0</td>\n",
       "      <td>0</td>\n",
       "      <td>1</td>\n",
       "      <td>0</td>\n",
       "      <td>0</td>\n",
       "      <td>0</td>\n",
       "      <td>0</td>\n",
       "      <td>0</td>\n",
       "      <td>0</td>\n",
       "      <td>0</td>\n",
       "      <td>...</td>\n",
       "      <td>0</td>\n",
       "      <td>0</td>\n",
       "      <td>0</td>\n",
       "      <td>0</td>\n",
       "      <td>0</td>\n",
       "      <td>0</td>\n",
       "      <td>0</td>\n",
       "      <td>0</td>\n",
       "      <td>0</td>\n",
       "      <td>0</td>\n",
       "    </tr>\n",
       "    <tr>\n",
       "      <th>GSE159759-4-vs-1-human up</th>\n",
       "      <td>0</td>\n",
       "      <td>0</td>\n",
       "      <td>0</td>\n",
       "      <td>0</td>\n",
       "      <td>0</td>\n",
       "      <td>0</td>\n",
       "      <td>0</td>\n",
       "      <td>0</td>\n",
       "      <td>0</td>\n",
       "      <td>0</td>\n",
       "      <td>...</td>\n",
       "      <td>0</td>\n",
       "      <td>0</td>\n",
       "      <td>0</td>\n",
       "      <td>0</td>\n",
       "      <td>0</td>\n",
       "      <td>0</td>\n",
       "      <td>0</td>\n",
       "      <td>0</td>\n",
       "      <td>0</td>\n",
       "      <td>0</td>\n",
       "    </tr>\n",
       "    <tr>\n",
       "      <th>GSE174432-6-vs-1-human up</th>\n",
       "      <td>0</td>\n",
       "      <td>0</td>\n",
       "      <td>0</td>\n",
       "      <td>0</td>\n",
       "      <td>0</td>\n",
       "      <td>0</td>\n",
       "      <td>0</td>\n",
       "      <td>0</td>\n",
       "      <td>0</td>\n",
       "      <td>0</td>\n",
       "      <td>...</td>\n",
       "      <td>0</td>\n",
       "      <td>0</td>\n",
       "      <td>0</td>\n",
       "      <td>0</td>\n",
       "      <td>0</td>\n",
       "      <td>0</td>\n",
       "      <td>1</td>\n",
       "      <td>0</td>\n",
       "      <td>0</td>\n",
       "      <td>0</td>\n",
       "    </tr>\n",
       "    <tr>\n",
       "      <th>...</th>\n",
       "      <td>...</td>\n",
       "      <td>...</td>\n",
       "      <td>...</td>\n",
       "      <td>...</td>\n",
       "      <td>...</td>\n",
       "      <td>...</td>\n",
       "      <td>...</td>\n",
       "      <td>...</td>\n",
       "      <td>...</td>\n",
       "      <td>...</td>\n",
       "      <td>...</td>\n",
       "      <td>...</td>\n",
       "      <td>...</td>\n",
       "      <td>...</td>\n",
       "      <td>...</td>\n",
       "      <td>...</td>\n",
       "      <td>...</td>\n",
       "      <td>...</td>\n",
       "      <td>...</td>\n",
       "      <td>...</td>\n",
       "      <td>...</td>\n",
       "    </tr>\n",
       "    <tr>\n",
       "      <th>GSE255852-7-vs-0-human up</th>\n",
       "      <td>0</td>\n",
       "      <td>0</td>\n",
       "      <td>0</td>\n",
       "      <td>0</td>\n",
       "      <td>0</td>\n",
       "      <td>0</td>\n",
       "      <td>0</td>\n",
       "      <td>0</td>\n",
       "      <td>0</td>\n",
       "      <td>0</td>\n",
       "      <td>...</td>\n",
       "      <td>0</td>\n",
       "      <td>0</td>\n",
       "      <td>0</td>\n",
       "      <td>0</td>\n",
       "      <td>0</td>\n",
       "      <td>0</td>\n",
       "      <td>0</td>\n",
       "      <td>0</td>\n",
       "      <td>0</td>\n",
       "      <td>0</td>\n",
       "    </tr>\n",
       "    <tr>\n",
       "      <th>GSE255896-7-vs-6-human up</th>\n",
       "      <td>0</td>\n",
       "      <td>0</td>\n",
       "      <td>1</td>\n",
       "      <td>0</td>\n",
       "      <td>0</td>\n",
       "      <td>0</td>\n",
       "      <td>0</td>\n",
       "      <td>0</td>\n",
       "      <td>0</td>\n",
       "      <td>0</td>\n",
       "      <td>...</td>\n",
       "      <td>0</td>\n",
       "      <td>0</td>\n",
       "      <td>0</td>\n",
       "      <td>0</td>\n",
       "      <td>0</td>\n",
       "      <td>0</td>\n",
       "      <td>0</td>\n",
       "      <td>0</td>\n",
       "      <td>0</td>\n",
       "      <td>0</td>\n",
       "    </tr>\n",
       "    <tr>\n",
       "      <th>GSE261040-9-vs-7-human up</th>\n",
       "      <td>0</td>\n",
       "      <td>0</td>\n",
       "      <td>0</td>\n",
       "      <td>0</td>\n",
       "      <td>0</td>\n",
       "      <td>0</td>\n",
       "      <td>0</td>\n",
       "      <td>0</td>\n",
       "      <td>0</td>\n",
       "      <td>0</td>\n",
       "      <td>...</td>\n",
       "      <td>0</td>\n",
       "      <td>0</td>\n",
       "      <td>0</td>\n",
       "      <td>0</td>\n",
       "      <td>0</td>\n",
       "      <td>0</td>\n",
       "      <td>0</td>\n",
       "      <td>0</td>\n",
       "      <td>0</td>\n",
       "      <td>0</td>\n",
       "    </tr>\n",
       "    <tr>\n",
       "      <th>GSE262398-5-vs-10-human up</th>\n",
       "      <td>0</td>\n",
       "      <td>0</td>\n",
       "      <td>0</td>\n",
       "      <td>0</td>\n",
       "      <td>0</td>\n",
       "      <td>0</td>\n",
       "      <td>0</td>\n",
       "      <td>0</td>\n",
       "      <td>0</td>\n",
       "      <td>0</td>\n",
       "      <td>...</td>\n",
       "      <td>0</td>\n",
       "      <td>1</td>\n",
       "      <td>1</td>\n",
       "      <td>0</td>\n",
       "      <td>0</td>\n",
       "      <td>0</td>\n",
       "      <td>0</td>\n",
       "      <td>0</td>\n",
       "      <td>0</td>\n",
       "      <td>0</td>\n",
       "    </tr>\n",
       "    <tr>\n",
       "      <th>GSE263588-4-vs-0-human up</th>\n",
       "      <td>0</td>\n",
       "      <td>0</td>\n",
       "      <td>0</td>\n",
       "      <td>0</td>\n",
       "      <td>0</td>\n",
       "      <td>0</td>\n",
       "      <td>0</td>\n",
       "      <td>0</td>\n",
       "      <td>0</td>\n",
       "      <td>0</td>\n",
       "      <td>...</td>\n",
       "      <td>0</td>\n",
       "      <td>0</td>\n",
       "      <td>0</td>\n",
       "      <td>0</td>\n",
       "      <td>0</td>\n",
       "      <td>0</td>\n",
       "      <td>0</td>\n",
       "      <td>0</td>\n",
       "      <td>0</td>\n",
       "      <td>0</td>\n",
       "    </tr>\n",
       "  </tbody>\n",
       "</table>\n",
       "<p>111 rows × 27057 columns</p>\n",
       "</div>"
      ],
      "text/plain": [
       "gene                                 A1BG-AS1  A1CF  A2M  A2M-AS1  A2ML1  \\\n",
       "term                                                                       \n",
       "GSE131747,GSE233959-3-vs-7-human up         0     0    0        0      0   \n",
       "GSE137289-7-vs-4-human up                   0     0    0        0      0   \n",
       "GSE157034,GSE157036-0-vs-5-human up         0     0    1        0      0   \n",
       "GSE159759-4-vs-1-human up                   0     0    0        0      0   \n",
       "GSE174432-6-vs-1-human up                   0     0    0        0      0   \n",
       "...                                       ...   ...  ...      ...    ...   \n",
       "GSE255852-7-vs-0-human up                   0     0    0        0      0   \n",
       "GSE255896-7-vs-6-human up                   0     0    1        0      0   \n",
       "GSE261040-9-vs-7-human up                   0     0    0        0      0   \n",
       "GSE262398-5-vs-10-human up                  0     0    0        0      0   \n",
       "GSE263588-4-vs-0-human up                   0     0    0        0      0   \n",
       "\n",
       "gene                                 A2ML1-AS2  A2MP1  A3GALT2  A4GALT  A4GNT  \\\n",
       "term                                                                            \n",
       "GSE131747,GSE233959-3-vs-7-human up          0      0        0       0      0   \n",
       "GSE137289-7-vs-4-human up                    0      0        0       0      0   \n",
       "GSE157034,GSE157036-0-vs-5-human up          0      0        0       0      0   \n",
       "GSE159759-4-vs-1-human up                    0      0        0       0      0   \n",
       "GSE174432-6-vs-1-human up                    0      0        0       0      0   \n",
       "...                                        ...    ...      ...     ...    ...   \n",
       "GSE255852-7-vs-0-human up                    0      0        0       0      0   \n",
       "GSE255896-7-vs-6-human up                    0      0        0       0      0   \n",
       "GSE261040-9-vs-7-human up                    0      0        0       0      0   \n",
       "GSE262398-5-vs-10-human up                   0      0        0       0      0   \n",
       "GSE263588-4-vs-0-human up                    0      0        0       0      0   \n",
       "\n",
       "gene                                 ...  ZW10  ZWILCH  ZWINT  ZXDA  ZXDB  \\\n",
       "term                                 ...                                    \n",
       "GSE131747,GSE233959-3-vs-7-human up  ...     0       0      0     0     0   \n",
       "GSE137289-7-vs-4-human up            ...     0       0      0     0     0   \n",
       "GSE157034,GSE157036-0-vs-5-human up  ...     0       0      0     0     0   \n",
       "GSE159759-4-vs-1-human up            ...     0       0      0     0     0   \n",
       "GSE174432-6-vs-1-human up            ...     0       0      0     0     0   \n",
       "...                                  ...   ...     ...    ...   ...   ...   \n",
       "GSE255852-7-vs-0-human up            ...     0       0      0     0     0   \n",
       "GSE255896-7-vs-6-human up            ...     0       0      0     0     0   \n",
       "GSE261040-9-vs-7-human up            ...     0       0      0     0     0   \n",
       "GSE262398-5-vs-10-human up           ...     0       1      1     0     0   \n",
       "GSE263588-4-vs-0-human up            ...     0       0      0     0     0   \n",
       "\n",
       "gene                                 ZXDC  ZYG11B  ZYX  ZZEF1  ZZZ3  \n",
       "term                                                                 \n",
       "GSE131747,GSE233959-3-vs-7-human up     0       0    1      0     0  \n",
       "GSE137289-7-vs-4-human up               0       0    0      0     0  \n",
       "GSE157034,GSE157036-0-vs-5-human up     0       0    0      0     0  \n",
       "GSE159759-4-vs-1-human up               0       0    0      0     0  \n",
       "GSE174432-6-vs-1-human up               0       1    0      0     0  \n",
       "...                                   ...     ...  ...    ...   ...  \n",
       "GSE255852-7-vs-0-human up               0       0    0      0     0  \n",
       "GSE255896-7-vs-6-human up               0       0    0      0     0  \n",
       "GSE261040-9-vs-7-human up               0       0    0      0     0  \n",
       "GSE262398-5-vs-10-human up              0       0    0      0     0  \n",
       "GSE263588-4-vs-0-human up               0       0    0      0     0  \n",
       "\n",
       "[111 rows x 27057 columns]"
      ]
     },
     "execution_count": 120,
     "metadata": {},
     "output_type": "execute_result"
    }
   ],
   "source": [
    "# rumma_archs4_up = rumma_archs4_up.reset_index()\n",
    "# len(rumma_archs4_up) /100000\n",
    "# rumma_archs4_up['Direction'] = 1\n",
    "rumma_archs4_up.loc[:100000].pivot_table(index='term', columns='gene', values='Direction', fill_value=0).astype('int16')"
   ]
  },
  {
   "cell_type": "markdown",
   "metadata": {},
   "source": [
    "#### Based on chunks"
   ]
  },
  {
   "cell_type": "code",
   "execution_count": 3,
   "metadata": {},
   "outputs": [],
   "source": [
    "rumma_series_counts =  rumma['term'].value_counts()\n",
    "rumma_less_than_500 = list(rumma_series_counts[rumma_series_counts < 500].index)"
   ]
  },
  {
   "cell_type": "code",
   "execution_count": null,
   "metadata": {},
   "outputs": [
    {
     "data": {
      "text/html": [
       "<div>\n",
       "<style scoped>\n",
       "    .dataframe tbody tr th:only-of-type {\n",
       "        vertical-align: middle;\n",
       "    }\n",
       "\n",
       "    .dataframe tbody tr th {\n",
       "        vertical-align: top;\n",
       "    }\n",
       "\n",
       "    .dataframe thead th {\n",
       "        text-align: right;\n",
       "    }\n",
       "</style>\n",
       "<table border=\"1\" class=\"dataframe\">\n",
       "  <thead>\n",
       "    <tr style=\"text-align: right;\">\n",
       "      <th></th>\n",
       "      <th>initial_alias</th>\n",
       "      <th>converted_alias</th>\n",
       "      <th>name</th>\n",
       "      <th>description</th>\n",
       "      <th>namespace</th>\n",
       "    </tr>\n",
       "  </thead>\n",
       "  <tbody>\n",
       "    <tr>\n",
       "      <th>0</th>\n",
       "      <td>HTR1A</td>\n",
       "      <td>ENSG00000178394</td>\n",
       "      <td>HTR1A</td>\n",
       "      <td>5-hydroxytryptamine receptor 1A [Source:HGNC S...</td>\n",
       "      <td>ENTREZGENE,GENECARDS,HGNC,UNIPROT_GN,WIKIGENE</td>\n",
       "    </tr>\n",
       "    <tr>\n",
       "      <th>1</th>\n",
       "      <td>ARRB2</td>\n",
       "      <td>ENSG00000141480</td>\n",
       "      <td>ARRB2</td>\n",
       "      <td>arrestin beta 2 [Source:HGNC Symbol;Acc:HGNC:712]</td>\n",
       "      <td>ENTREZGENE,GENECARDS,HGNC,UNIPROT_GN,WIKIGENE</td>\n",
       "    </tr>\n",
       "    <tr>\n",
       "      <th>2</th>\n",
       "      <td>FGFR1</td>\n",
       "      <td>ENSG00000077782</td>\n",
       "      <td>FGFR1</td>\n",
       "      <td>fibroblast growth factor receptor 1 [Source:HG...</td>\n",
       "      <td>ENTREZGENE,GENECARDS,HGNC,UNIPROT_GN,WIKIGENE</td>\n",
       "    </tr>\n",
       "    <tr>\n",
       "      <th>3</th>\n",
       "      <td>ARRB1</td>\n",
       "      <td>ENSG00000137486</td>\n",
       "      <td>ARRB1</td>\n",
       "      <td>arrestin beta 1 [Source:HGNC Symbol;Acc:HGNC:711]</td>\n",
       "      <td>ENTREZGENE,GENECARDS,HGNC,UNIPROT_GN,WIKIGENE</td>\n",
       "    </tr>\n",
       "    <tr>\n",
       "      <th>4</th>\n",
       "      <td>GNG12</td>\n",
       "      <td>ENSG00000172380</td>\n",
       "      <td>GNG12</td>\n",
       "      <td>G protein subunit gamma 12 [Source:HGNC Symbol...</td>\n",
       "      <td>ENTREZGENE,GENECARDS,HGNC,UNIPROT_GN,WIKIGENE</td>\n",
       "    </tr>\n",
       "    <tr>\n",
       "      <th>...</th>\n",
       "      <td>...</td>\n",
       "      <td>...</td>\n",
       "      <td>...</td>\n",
       "      <td>...</td>\n",
       "      <td>...</td>\n",
       "    </tr>\n",
       "    <tr>\n",
       "      <th>11933</th>\n",
       "      <td>TRMT61A</td>\n",
       "      <td>ENSG00000166166</td>\n",
       "      <td>TRMT61A</td>\n",
       "      <td>tRNA methyltransferase 61A [Source:HGNC Symbol...</td>\n",
       "      <td>ENTREZGENE,GENECARDS,HGNC,UNIPROT_GN,WIKIGENE</td>\n",
       "    </tr>\n",
       "    <tr>\n",
       "      <th>11934</th>\n",
       "      <td>TRMT6</td>\n",
       "      <td>ENSG00000089195</td>\n",
       "      <td>TRMT6</td>\n",
       "      <td>tRNA methyltransferase 6 non-catalytic subunit...</td>\n",
       "      <td>ENTREZGENE,GENECARDS,HGNC,UNIPROT_GN,WIKIGENE</td>\n",
       "    </tr>\n",
       "    <tr>\n",
       "      <th>11935</th>\n",
       "      <td>TKT</td>\n",
       "      <td>ENSG00000163931</td>\n",
       "      <td>TKT</td>\n",
       "      <td>transketolase [Source:HGNC Symbol;Acc:HGNC:11834]</td>\n",
       "      <td>ENTREZGENE,GENECARDS,HGNC,UNIPROT_GN,WIKIGENE</td>\n",
       "    </tr>\n",
       "    <tr>\n",
       "      <th>11936</th>\n",
       "      <td>BCAT1</td>\n",
       "      <td>ENSG00000060982</td>\n",
       "      <td>BCAT1</td>\n",
       "      <td>branched chain amino acid transaminase 1 [Sour...</td>\n",
       "      <td>ENTREZGENE,GENECARDS,HGNC,UNIPROT_GN,WIKIGENE</td>\n",
       "    </tr>\n",
       "    <tr>\n",
       "      <th>11937</th>\n",
       "      <td>QSOX1</td>\n",
       "      <td>ENSG00000116260</td>\n",
       "      <td>QSOX1</td>\n",
       "      <td>quiescin sulfhydryl oxidase 1 [Source:HGNC Sym...</td>\n",
       "      <td>ENTREZGENE,GENECARDS,HGNC,UNIPROT_GN,WIKIGENE</td>\n",
       "    </tr>\n",
       "  </tbody>\n",
       "</table>\n",
       "<p>11938 rows × 5 columns</p>\n",
       "</div>"
      ],
      "text/plain": [
       "      initial_alias  converted_alias     name  \\\n",
       "0             HTR1A  ENSG00000178394    HTR1A   \n",
       "1             ARRB2  ENSG00000141480    ARRB2   \n",
       "2             FGFR1  ENSG00000077782    FGFR1   \n",
       "3             ARRB1  ENSG00000137486    ARRB1   \n",
       "4             GNG12  ENSG00000172380    GNG12   \n",
       "...             ...              ...      ...   \n",
       "11933       TRMT61A  ENSG00000166166  TRMT61A   \n",
       "11934         TRMT6  ENSG00000089195    TRMT6   \n",
       "11935           TKT  ENSG00000163931      TKT   \n",
       "11936         BCAT1  ENSG00000060982    BCAT1   \n",
       "11937         QSOX1  ENSG00000116260    QSOX1   \n",
       "\n",
       "                                             description  \\\n",
       "0      5-hydroxytryptamine receptor 1A [Source:HGNC S...   \n",
       "1      arrestin beta 2 [Source:HGNC Symbol;Acc:HGNC:712]   \n",
       "2      fibroblast growth factor receptor 1 [Source:HG...   \n",
       "3      arrestin beta 1 [Source:HGNC Symbol;Acc:HGNC:711]   \n",
       "4      G protein subunit gamma 12 [Source:HGNC Symbol...   \n",
       "...                                                  ...   \n",
       "11933  tRNA methyltransferase 61A [Source:HGNC Symbol...   \n",
       "11934  tRNA methyltransferase 6 non-catalytic subunit...   \n",
       "11935  transketolase [Source:HGNC Symbol;Acc:HGNC:11834]   \n",
       "11936  branched chain amino acid transaminase 1 [Sour...   \n",
       "11937  quiescin sulfhydryl oxidase 1 [Source:HGNC Sym...   \n",
       "\n",
       "                                           namespace  \n",
       "0      ENTREZGENE,GENECARDS,HGNC,UNIPROT_GN,WIKIGENE  \n",
       "1      ENTREZGENE,GENECARDS,HGNC,UNIPROT_GN,WIKIGENE  \n",
       "2      ENTREZGENE,GENECARDS,HGNC,UNIPROT_GN,WIKIGENE  \n",
       "3      ENTREZGENE,GENECARDS,HGNC,UNIPROT_GN,WIKIGENE  \n",
       "4      ENTREZGENE,GENECARDS,HGNC,UNIPROT_GN,WIKIGENE  \n",
       "...                                              ...  \n",
       "11933  ENTREZGENE,GENECARDS,HGNC,UNIPROT_GN,WIKIGENE  \n",
       "11934  ENTREZGENE,GENECARDS,HGNC,UNIPROT_GN,WIKIGENE  \n",
       "11935  ENTREZGENE,GENECARDS,HGNC,UNIPROT_GN,WIKIGENE  \n",
       "11936  ENTREZGENE,GENECARDS,HGNC,UNIPROT_GN,WIKIGENE  \n",
       "11937  ENTREZGENE,GENECARDS,HGNC,UNIPROT_GN,WIKIGENE  \n",
       "\n",
       "[11938 rows x 5 columns]"
      ]
     },
     "execution_count": 70,
     "metadata": {},
     "output_type": "execute_result"
    }
   ],
   "source": [
    "# protein_coding = pd.read_csv('/home/sbl/Documents/Arch4/Ensemble PC.csv')\n",
    "# gene_conversion = pd.read_csv('/home/sbl/Documents/Chempert Database/Genes to Ensemble.csv')\n",
    "set(gene_conversion['converted_alias'].values).intersection(protein_coding['gene_id'].values)\n",
    "gene_conversion"
   ]
  },
  {
   "cell_type": "code",
   "execution_count": null,
   "metadata": {},
   "outputs": [],
   "source": [
    "# hg_genes = pd.read_table('hgTables_', sep=',')\n",
    "pd.Series(protein_coding['gene_id'].value_counts().index).to_csv('human_protein_coding.csv', index=False)"
   ]
  },
  {
   "cell_type": "code",
   "execution_count": null,
   "metadata": {},
   "outputs": [],
   "source": [
    "# import biomart\n",
    "import mygene\n",
    "mg = mygene.MyGeneInfo()\n",
    "fields = ['symbol','name','entrezgene','ensemble.gene']"
   ]
  },
  {
   "cell_type": "code",
   "execution_count": null,
   "metadata": {},
   "outputs": [
    {
     "data": {
      "text/plain": [
       "['symbol', 'name', 'entrezgene', 'ensemble.gene']"
      ]
     },
     "execution_count": 76,
     "metadata": {},
     "output_type": "execute_result"
    }
   ],
   "source": [
    "fields"
   ]
  },
  {
   "cell_type": "code",
   "execution_count": 5,
   "metadata": {},
   "outputs": [],
   "source": [
    "# rumma[rumma.term.isin([rumma_series_counts[rumma_series_counts < 500].index])]\n",
    "rumma_chunk = rumma[rumma['term'].isin(list(rumma_less_than_500))]"
   ]
  },
  {
   "cell_type": "code",
   "execution_count": 17,
   "metadata": {},
   "outputs": [
    {
     "name": "stderr",
     "output_type": "stream",
     "text": [
      "/tmp/ipykernel_314089/514247392.py:1: SettingWithCopyWarning: \n",
      "A value is trying to be set on a copy of a slice from a DataFrame.\n",
      "Try using .loc[row_indexer,col_indexer] = value instead\n",
      "\n",
      "See the caveats in the documentation: https://pandas.pydata.org/pandas-docs/stable/user_guide/indexing.html#returning-a-view-versus-a-copy\n",
      "  rumma_chunk['Dire'] = 1\n",
      "/tmp/ipykernel_314089/514247392.py:2: SettingWithCopyWarning: \n",
      "A value is trying to be set on a copy of a slice from a DataFrame.\n",
      "Try using .loc[row_indexer,col_indexer] = value instead\n",
      "\n",
      "See the caveats in the documentation: https://pandas.pydata.org/pandas-docs/stable/user_guide/indexing.html#returning-a-view-versus-a-copy\n",
      "  rumma_chunk['Dire'] = rumma_chunk['Dire'].astype('int16')\n",
      "/tmp/ipykernel_314089/514247392.py:3: PerformanceWarning: The following operation may generate 3596751796 cells in the resulting pandas object.\n",
      "  rumma_chunk_piovt = rumma_chunk.pivot_table(index='term', values='Dire', columns='gene',fill_value=0).astype(int)\n"
     ]
    },
    {
     "ename": "KeyboardInterrupt",
     "evalue": "",
     "output_type": "error",
     "traceback": [
      "\u001b[0;31m---------------------------------------------------------------------------\u001b[0m",
      "\u001b[0;31mKeyboardInterrupt\u001b[0m                         Traceback (most recent call last)",
      "Cell \u001b[0;32mIn[17], line 3\u001b[0m\n\u001b[1;32m      1\u001b[0m rumma_chunk[\u001b[38;5;124m'\u001b[39m\u001b[38;5;124mDire\u001b[39m\u001b[38;5;124m'\u001b[39m] \u001b[38;5;241m=\u001b[39m \u001b[38;5;241m1\u001b[39m\n\u001b[1;32m      2\u001b[0m rumma_chunk[\u001b[38;5;124m'\u001b[39m\u001b[38;5;124mDire\u001b[39m\u001b[38;5;124m'\u001b[39m] \u001b[38;5;241m=\u001b[39m rumma_chunk[\u001b[38;5;124m'\u001b[39m\u001b[38;5;124mDire\u001b[39m\u001b[38;5;124m'\u001b[39m]\u001b[38;5;241m.\u001b[39mastype(\u001b[38;5;124m'\u001b[39m\u001b[38;5;124mint16\u001b[39m\u001b[38;5;124m'\u001b[39m)\n\u001b[0;32m----> 3\u001b[0m rumma_chunk_piovt \u001b[38;5;241m=\u001b[39m \u001b[43mrumma_chunk\u001b[49m\u001b[38;5;241;43m.\u001b[39;49m\u001b[43mpivot_table\u001b[49m\u001b[43m(\u001b[49m\u001b[43mindex\u001b[49m\u001b[38;5;241;43m=\u001b[39;49m\u001b[38;5;124;43m'\u001b[39;49m\u001b[38;5;124;43mterm\u001b[39;49m\u001b[38;5;124;43m'\u001b[39;49m\u001b[43m,\u001b[49m\u001b[43m \u001b[49m\u001b[43mvalues\u001b[49m\u001b[38;5;241;43m=\u001b[39;49m\u001b[38;5;124;43m'\u001b[39;49m\u001b[38;5;124;43mDire\u001b[39;49m\u001b[38;5;124;43m'\u001b[39;49m\u001b[43m,\u001b[49m\u001b[43m \u001b[49m\u001b[43mcolumns\u001b[49m\u001b[38;5;241;43m=\u001b[39;49m\u001b[38;5;124;43m'\u001b[39;49m\u001b[38;5;124;43mgene\u001b[39;49m\u001b[38;5;124;43m'\u001b[39;49m\u001b[43m,\u001b[49m\u001b[43mfill_value\u001b[49m\u001b[38;5;241;43m=\u001b[39;49m\u001b[38;5;241;43m0\u001b[39;49m\u001b[43m)\u001b[49m\u001b[38;5;241m.\u001b[39mastype(\u001b[38;5;28mint\u001b[39m)\n",
      "File \u001b[0;32m~/.local/lib/python3.10/site-packages/pandas/core/frame.py:9496\u001b[0m, in \u001b[0;36mDataFrame.pivot_table\u001b[0;34m(self, values, index, columns, aggfunc, fill_value, margins, dropna, margins_name, observed, sort)\u001b[0m\n\u001b[1;32m   9479\u001b[0m \u001b[38;5;129m@Substitution\u001b[39m(\u001b[38;5;124m\"\u001b[39m\u001b[38;5;124m\"\u001b[39m)\n\u001b[1;32m   9480\u001b[0m \u001b[38;5;129m@Appender\u001b[39m(_shared_docs[\u001b[38;5;124m\"\u001b[39m\u001b[38;5;124mpivot_table\u001b[39m\u001b[38;5;124m\"\u001b[39m])\n\u001b[1;32m   9481\u001b[0m \u001b[38;5;28;01mdef\u001b[39;00m \u001b[38;5;21mpivot_table\u001b[39m(\n\u001b[0;32m   (...)\u001b[0m\n\u001b[1;32m   9492\u001b[0m     sort: \u001b[38;5;28mbool\u001b[39m \u001b[38;5;241m=\u001b[39m \u001b[38;5;28;01mTrue\u001b[39;00m,\n\u001b[1;32m   9493\u001b[0m ) \u001b[38;5;241m-\u001b[39m\u001b[38;5;241m>\u001b[39m DataFrame:\n\u001b[1;32m   9494\u001b[0m     \u001b[38;5;28;01mfrom\u001b[39;00m \u001b[38;5;21;01mpandas\u001b[39;00m\u001b[38;5;21;01m.\u001b[39;00m\u001b[38;5;21;01mcore\u001b[39;00m\u001b[38;5;21;01m.\u001b[39;00m\u001b[38;5;21;01mreshape\u001b[39;00m\u001b[38;5;21;01m.\u001b[39;00m\u001b[38;5;21;01mpivot\u001b[39;00m \u001b[38;5;28;01mimport\u001b[39;00m pivot_table\n\u001b[0;32m-> 9496\u001b[0m     \u001b[38;5;28;01mreturn\u001b[39;00m \u001b[43mpivot_table\u001b[49m\u001b[43m(\u001b[49m\n\u001b[1;32m   9497\u001b[0m \u001b[43m        \u001b[49m\u001b[38;5;28;43mself\u001b[39;49m\u001b[43m,\u001b[49m\n\u001b[1;32m   9498\u001b[0m \u001b[43m        \u001b[49m\u001b[43mvalues\u001b[49m\u001b[38;5;241;43m=\u001b[39;49m\u001b[43mvalues\u001b[49m\u001b[43m,\u001b[49m\n\u001b[1;32m   9499\u001b[0m \u001b[43m        \u001b[49m\u001b[43mindex\u001b[49m\u001b[38;5;241;43m=\u001b[39;49m\u001b[43mindex\u001b[49m\u001b[43m,\u001b[49m\n\u001b[1;32m   9500\u001b[0m \u001b[43m        \u001b[49m\u001b[43mcolumns\u001b[49m\u001b[38;5;241;43m=\u001b[39;49m\u001b[43mcolumns\u001b[49m\u001b[43m,\u001b[49m\n\u001b[1;32m   9501\u001b[0m \u001b[43m        \u001b[49m\u001b[43maggfunc\u001b[49m\u001b[38;5;241;43m=\u001b[39;49m\u001b[43maggfunc\u001b[49m\u001b[43m,\u001b[49m\n\u001b[1;32m   9502\u001b[0m \u001b[43m        \u001b[49m\u001b[43mfill_value\u001b[49m\u001b[38;5;241;43m=\u001b[39;49m\u001b[43mfill_value\u001b[49m\u001b[43m,\u001b[49m\n\u001b[1;32m   9503\u001b[0m \u001b[43m        \u001b[49m\u001b[43mmargins\u001b[49m\u001b[38;5;241;43m=\u001b[39;49m\u001b[43mmargins\u001b[49m\u001b[43m,\u001b[49m\n\u001b[1;32m   9504\u001b[0m \u001b[43m        \u001b[49m\u001b[43mdropna\u001b[49m\u001b[38;5;241;43m=\u001b[39;49m\u001b[43mdropna\u001b[49m\u001b[43m,\u001b[49m\n\u001b[1;32m   9505\u001b[0m \u001b[43m        \u001b[49m\u001b[43mmargins_name\u001b[49m\u001b[38;5;241;43m=\u001b[39;49m\u001b[43mmargins_name\u001b[49m\u001b[43m,\u001b[49m\n\u001b[1;32m   9506\u001b[0m \u001b[43m        \u001b[49m\u001b[43mobserved\u001b[49m\u001b[38;5;241;43m=\u001b[39;49m\u001b[43mobserved\u001b[49m\u001b[43m,\u001b[49m\n\u001b[1;32m   9507\u001b[0m \u001b[43m        \u001b[49m\u001b[43msort\u001b[49m\u001b[38;5;241;43m=\u001b[39;49m\u001b[43msort\u001b[49m\u001b[43m,\u001b[49m\n\u001b[1;32m   9508\u001b[0m \u001b[43m    \u001b[49m\u001b[43m)\u001b[49m\n",
      "File \u001b[0;32m~/.local/lib/python3.10/site-packages/pandas/core/reshape/pivot.py:102\u001b[0m, in \u001b[0;36mpivot_table\u001b[0;34m(data, values, index, columns, aggfunc, fill_value, margins, dropna, margins_name, observed, sort)\u001b[0m\n\u001b[1;32m     99\u001b[0m     table \u001b[38;5;241m=\u001b[39m concat(pieces, keys\u001b[38;5;241m=\u001b[39mkeys, axis\u001b[38;5;241m=\u001b[39m\u001b[38;5;241m1\u001b[39m)\n\u001b[1;32m    100\u001b[0m     \u001b[38;5;28;01mreturn\u001b[39;00m table\u001b[38;5;241m.\u001b[39m__finalize__(data, method\u001b[38;5;241m=\u001b[39m\u001b[38;5;124m\"\u001b[39m\u001b[38;5;124mpivot_table\u001b[39m\u001b[38;5;124m\"\u001b[39m)\n\u001b[0;32m--> 102\u001b[0m table \u001b[38;5;241m=\u001b[39m \u001b[43m__internal_pivot_table\u001b[49m\u001b[43m(\u001b[49m\n\u001b[1;32m    103\u001b[0m \u001b[43m    \u001b[49m\u001b[43mdata\u001b[49m\u001b[43m,\u001b[49m\n\u001b[1;32m    104\u001b[0m \u001b[43m    \u001b[49m\u001b[43mvalues\u001b[49m\u001b[43m,\u001b[49m\n\u001b[1;32m    105\u001b[0m \u001b[43m    \u001b[49m\u001b[43mindex\u001b[49m\u001b[43m,\u001b[49m\n\u001b[1;32m    106\u001b[0m \u001b[43m    \u001b[49m\u001b[43mcolumns\u001b[49m\u001b[43m,\u001b[49m\n\u001b[1;32m    107\u001b[0m \u001b[43m    \u001b[49m\u001b[43maggfunc\u001b[49m\u001b[43m,\u001b[49m\n\u001b[1;32m    108\u001b[0m \u001b[43m    \u001b[49m\u001b[43mfill_value\u001b[49m\u001b[43m,\u001b[49m\n\u001b[1;32m    109\u001b[0m \u001b[43m    \u001b[49m\u001b[43mmargins\u001b[49m\u001b[43m,\u001b[49m\n\u001b[1;32m    110\u001b[0m \u001b[43m    \u001b[49m\u001b[43mdropna\u001b[49m\u001b[43m,\u001b[49m\n\u001b[1;32m    111\u001b[0m \u001b[43m    \u001b[49m\u001b[43mmargins_name\u001b[49m\u001b[43m,\u001b[49m\n\u001b[1;32m    112\u001b[0m \u001b[43m    \u001b[49m\u001b[43mobserved\u001b[49m\u001b[43m,\u001b[49m\n\u001b[1;32m    113\u001b[0m \u001b[43m    \u001b[49m\u001b[43msort\u001b[49m\u001b[43m,\u001b[49m\n\u001b[1;32m    114\u001b[0m \u001b[43m\u001b[49m\u001b[43m)\u001b[49m\n\u001b[1;32m    115\u001b[0m \u001b[38;5;28;01mreturn\u001b[39;00m table\u001b[38;5;241m.\u001b[39m__finalize__(data, method\u001b[38;5;241m=\u001b[39m\u001b[38;5;124m\"\u001b[39m\u001b[38;5;124mpivot_table\u001b[39m\u001b[38;5;124m\"\u001b[39m)\n",
      "File \u001b[0;32m~/.local/lib/python3.10/site-packages/pandas/core/reshape/pivot.py:219\u001b[0m, in \u001b[0;36m__internal_pivot_table\u001b[0;34m(data, values, index, columns, aggfunc, fill_value, margins, dropna, margins_name, observed, sort)\u001b[0m\n\u001b[1;32m    216\u001b[0m         table \u001b[38;5;241m=\u001b[39m table\u001b[38;5;241m.\u001b[39mreindex(m, axis\u001b[38;5;241m=\u001b[39m\u001b[38;5;241m1\u001b[39m, fill_value\u001b[38;5;241m=\u001b[39mfill_value)\n\u001b[1;32m    218\u001b[0m \u001b[38;5;28;01mif\u001b[39;00m sort \u001b[38;5;129;01mis\u001b[39;00m \u001b[38;5;28;01mTrue\u001b[39;00m \u001b[38;5;129;01mand\u001b[39;00m \u001b[38;5;28misinstance\u001b[39m(table, ABCDataFrame):\n\u001b[0;32m--> 219\u001b[0m     table \u001b[38;5;241m=\u001b[39m \u001b[43mtable\u001b[49m\u001b[38;5;241;43m.\u001b[39;49m\u001b[43msort_index\u001b[49m\u001b[43m(\u001b[49m\u001b[43maxis\u001b[49m\u001b[38;5;241;43m=\u001b[39;49m\u001b[38;5;241;43m1\u001b[39;49m\u001b[43m)\u001b[49m\n\u001b[1;32m    221\u001b[0m \u001b[38;5;28;01mif\u001b[39;00m fill_value \u001b[38;5;129;01mis\u001b[39;00m \u001b[38;5;129;01mnot\u001b[39;00m \u001b[38;5;28;01mNone\u001b[39;00m:\n\u001b[1;32m    222\u001b[0m     table \u001b[38;5;241m=\u001b[39m table\u001b[38;5;241m.\u001b[39mfillna(fill_value)\n",
      "File \u001b[0;32m~/.local/lib/python3.10/site-packages/pandas/core/frame.py:7366\u001b[0m, in \u001b[0;36mDataFrame.sort_index\u001b[0;34m(self, axis, level, ascending, inplace, kind, na_position, sort_remaining, ignore_index, key)\u001b[0m\n\u001b[1;32m   7269\u001b[0m \u001b[38;5;28;01mdef\u001b[39;00m \u001b[38;5;21msort_index\u001b[39m(\n\u001b[1;32m   7270\u001b[0m     \u001b[38;5;28mself\u001b[39m,\n\u001b[1;32m   7271\u001b[0m     \u001b[38;5;241m*\u001b[39m,\n\u001b[0;32m   (...)\u001b[0m\n\u001b[1;32m   7280\u001b[0m     key: IndexKeyFunc \u001b[38;5;241m|\u001b[39m \u001b[38;5;28;01mNone\u001b[39;00m \u001b[38;5;241m=\u001b[39m \u001b[38;5;28;01mNone\u001b[39;00m,\n\u001b[1;32m   7281\u001b[0m ) \u001b[38;5;241m-\u001b[39m\u001b[38;5;241m>\u001b[39m DataFrame \u001b[38;5;241m|\u001b[39m \u001b[38;5;28;01mNone\u001b[39;00m:\n\u001b[1;32m   7282\u001b[0m \u001b[38;5;250m    \u001b[39m\u001b[38;5;124;03m\"\"\"\u001b[39;00m\n\u001b[1;32m   7283\u001b[0m \u001b[38;5;124;03m    Sort object by labels (along an axis).\u001b[39;00m\n\u001b[1;32m   7284\u001b[0m \n\u001b[0;32m   (...)\u001b[0m\n\u001b[1;32m   7364\u001b[0m \u001b[38;5;124;03m    d  4\u001b[39;00m\n\u001b[1;32m   7365\u001b[0m \u001b[38;5;124;03m    \"\"\"\u001b[39;00m\n\u001b[0;32m-> 7366\u001b[0m     \u001b[38;5;28;01mreturn\u001b[39;00m \u001b[38;5;28;43msuper\u001b[39;49m\u001b[43m(\u001b[49m\u001b[43m)\u001b[49m\u001b[38;5;241;43m.\u001b[39;49m\u001b[43msort_index\u001b[49m\u001b[43m(\u001b[49m\n\u001b[1;32m   7367\u001b[0m \u001b[43m        \u001b[49m\u001b[43maxis\u001b[49m\u001b[38;5;241;43m=\u001b[39;49m\u001b[43maxis\u001b[49m\u001b[43m,\u001b[49m\n\u001b[1;32m   7368\u001b[0m \u001b[43m        \u001b[49m\u001b[43mlevel\u001b[49m\u001b[38;5;241;43m=\u001b[39;49m\u001b[43mlevel\u001b[49m\u001b[43m,\u001b[49m\n\u001b[1;32m   7369\u001b[0m \u001b[43m        \u001b[49m\u001b[43mascending\u001b[49m\u001b[38;5;241;43m=\u001b[39;49m\u001b[43mascending\u001b[49m\u001b[43m,\u001b[49m\n\u001b[1;32m   7370\u001b[0m \u001b[43m        \u001b[49m\u001b[43minplace\u001b[49m\u001b[38;5;241;43m=\u001b[39;49m\u001b[43minplace\u001b[49m\u001b[43m,\u001b[49m\n\u001b[1;32m   7371\u001b[0m \u001b[43m        \u001b[49m\u001b[43mkind\u001b[49m\u001b[38;5;241;43m=\u001b[39;49m\u001b[43mkind\u001b[49m\u001b[43m,\u001b[49m\n\u001b[1;32m   7372\u001b[0m \u001b[43m        \u001b[49m\u001b[43mna_position\u001b[49m\u001b[38;5;241;43m=\u001b[39;49m\u001b[43mna_position\u001b[49m\u001b[43m,\u001b[49m\n\u001b[1;32m   7373\u001b[0m \u001b[43m        \u001b[49m\u001b[43msort_remaining\u001b[49m\u001b[38;5;241;43m=\u001b[39;49m\u001b[43msort_remaining\u001b[49m\u001b[43m,\u001b[49m\n\u001b[1;32m   7374\u001b[0m \u001b[43m        \u001b[49m\u001b[43mignore_index\u001b[49m\u001b[38;5;241;43m=\u001b[39;49m\u001b[43mignore_index\u001b[49m\u001b[43m,\u001b[49m\n\u001b[1;32m   7375\u001b[0m \u001b[43m        \u001b[49m\u001b[43mkey\u001b[49m\u001b[38;5;241;43m=\u001b[39;49m\u001b[43mkey\u001b[49m\u001b[43m,\u001b[49m\n\u001b[1;32m   7376\u001b[0m \u001b[43m    \u001b[49m\u001b[43m)\u001b[49m\n",
      "File \u001b[0;32m~/.local/lib/python3.10/site-packages/pandas/core/generic.py:5314\u001b[0m, in \u001b[0;36mNDFrame.sort_index\u001b[0;34m(self, axis, level, ascending, inplace, kind, na_position, sort_remaining, ignore_index, key)\u001b[0m\n\u001b[1;32m   5312\u001b[0m     result \u001b[38;5;241m=\u001b[39m \u001b[38;5;28mself\u001b[39m\n\u001b[1;32m   5313\u001b[0m \u001b[38;5;28;01melse\u001b[39;00m:\n\u001b[0;32m-> 5314\u001b[0m     result \u001b[38;5;241m=\u001b[39m \u001b[38;5;28;43mself\u001b[39;49m\u001b[38;5;241;43m.\u001b[39;49m\u001b[43mcopy\u001b[49m\u001b[43m(\u001b[49m\u001b[43mdeep\u001b[49m\u001b[38;5;241;43m=\u001b[39;49m\u001b[38;5;28;43;01mNone\u001b[39;49;00m\u001b[43m)\u001b[49m\n\u001b[1;32m   5316\u001b[0m \u001b[38;5;28;01mif\u001b[39;00m ignore_index:\n\u001b[1;32m   5317\u001b[0m     result\u001b[38;5;241m.\u001b[39mindex \u001b[38;5;241m=\u001b[39m default_index(\u001b[38;5;28mlen\u001b[39m(\u001b[38;5;28mself\u001b[39m))\n",
      "File \u001b[0;32m~/.local/lib/python3.10/site-packages/pandas/core/generic.py:6808\u001b[0m, in \u001b[0;36mNDFrame.copy\u001b[0;34m(self, deep)\u001b[0m\n\u001b[1;32m   6659\u001b[0m \u001b[38;5;129m@final\u001b[39m\n\u001b[1;32m   6660\u001b[0m \u001b[38;5;28;01mdef\u001b[39;00m \u001b[38;5;21mcopy\u001b[39m(\u001b[38;5;28mself\u001b[39m, deep: bool_t \u001b[38;5;241m|\u001b[39m \u001b[38;5;28;01mNone\u001b[39;00m \u001b[38;5;241m=\u001b[39m \u001b[38;5;28;01mTrue\u001b[39;00m) \u001b[38;5;241m-\u001b[39m\u001b[38;5;241m>\u001b[39m Self:\n\u001b[1;32m   6661\u001b[0m \u001b[38;5;250m    \u001b[39m\u001b[38;5;124;03m\"\"\"\u001b[39;00m\n\u001b[1;32m   6662\u001b[0m \u001b[38;5;124;03m    Make a copy of this object's indices and data.\u001b[39;00m\n\u001b[1;32m   6663\u001b[0m \n\u001b[0;32m   (...)\u001b[0m\n\u001b[1;32m   6806\u001b[0m \u001b[38;5;124;03m    dtype: int64\u001b[39;00m\n\u001b[1;32m   6807\u001b[0m \u001b[38;5;124;03m    \"\"\"\u001b[39;00m\n\u001b[0;32m-> 6808\u001b[0m     data \u001b[38;5;241m=\u001b[39m \u001b[38;5;28;43mself\u001b[39;49m\u001b[38;5;241;43m.\u001b[39;49m\u001b[43m_mgr\u001b[49m\u001b[38;5;241;43m.\u001b[39;49m\u001b[43mcopy\u001b[49m\u001b[43m(\u001b[49m\u001b[43mdeep\u001b[49m\u001b[38;5;241;43m=\u001b[39;49m\u001b[43mdeep\u001b[49m\u001b[43m)\u001b[49m\n\u001b[1;32m   6809\u001b[0m     \u001b[38;5;28mself\u001b[39m\u001b[38;5;241m.\u001b[39m_clear_item_cache()\n\u001b[1;32m   6810\u001b[0m     \u001b[38;5;28;01mreturn\u001b[39;00m \u001b[38;5;28mself\u001b[39m\u001b[38;5;241m.\u001b[39m_constructor_from_mgr(data, axes\u001b[38;5;241m=\u001b[39mdata\u001b[38;5;241m.\u001b[39maxes)\u001b[38;5;241m.\u001b[39m__finalize__(\n\u001b[1;32m   6811\u001b[0m         \u001b[38;5;28mself\u001b[39m, method\u001b[38;5;241m=\u001b[39m\u001b[38;5;124m\"\u001b[39m\u001b[38;5;124mcopy\u001b[39m\u001b[38;5;124m\"\u001b[39m\n\u001b[1;32m   6812\u001b[0m     )\n",
      "File \u001b[0;32m~/.local/lib/python3.10/site-packages/pandas/core/internals/managers.py:593\u001b[0m, in \u001b[0;36mBaseBlockManager.copy\u001b[0;34m(self, deep)\u001b[0m\n\u001b[1;32m    590\u001b[0m     \u001b[38;5;28;01melse\u001b[39;00m:\n\u001b[1;32m    591\u001b[0m         new_axes \u001b[38;5;241m=\u001b[39m \u001b[38;5;28mlist\u001b[39m(\u001b[38;5;28mself\u001b[39m\u001b[38;5;241m.\u001b[39maxes)\n\u001b[0;32m--> 593\u001b[0m res \u001b[38;5;241m=\u001b[39m \u001b[38;5;28;43mself\u001b[39;49m\u001b[38;5;241;43m.\u001b[39;49m\u001b[43mapply\u001b[49m\u001b[43m(\u001b[49m\u001b[38;5;124;43m\"\u001b[39;49m\u001b[38;5;124;43mcopy\u001b[39;49m\u001b[38;5;124;43m\"\u001b[39;49m\u001b[43m,\u001b[49m\u001b[43m \u001b[49m\u001b[43mdeep\u001b[49m\u001b[38;5;241;43m=\u001b[39;49m\u001b[43mdeep\u001b[49m\u001b[43m)\u001b[49m\n\u001b[1;32m    594\u001b[0m res\u001b[38;5;241m.\u001b[39maxes \u001b[38;5;241m=\u001b[39m new_axes\n\u001b[1;32m    596\u001b[0m \u001b[38;5;28;01mif\u001b[39;00m \u001b[38;5;28mself\u001b[39m\u001b[38;5;241m.\u001b[39mndim \u001b[38;5;241m>\u001b[39m \u001b[38;5;241m1\u001b[39m:\n\u001b[1;32m    597\u001b[0m     \u001b[38;5;66;03m# Avoid needing to re-compute these\u001b[39;00m\n",
      "File \u001b[0;32m~/.local/lib/python3.10/site-packages/pandas/core/internals/managers.py:363\u001b[0m, in \u001b[0;36mBaseBlockManager.apply\u001b[0;34m(self, f, align_keys, **kwargs)\u001b[0m\n\u001b[1;32m    361\u001b[0m         applied \u001b[38;5;241m=\u001b[39m b\u001b[38;5;241m.\u001b[39mapply(f, \u001b[38;5;241m*\u001b[39m\u001b[38;5;241m*\u001b[39mkwargs)\n\u001b[1;32m    362\u001b[0m     \u001b[38;5;28;01melse\u001b[39;00m:\n\u001b[0;32m--> 363\u001b[0m         applied \u001b[38;5;241m=\u001b[39m \u001b[38;5;28;43mgetattr\u001b[39;49m\u001b[43m(\u001b[49m\u001b[43mb\u001b[49m\u001b[43m,\u001b[49m\u001b[43m \u001b[49m\u001b[43mf\u001b[49m\u001b[43m)\u001b[49m\u001b[43m(\u001b[49m\u001b[38;5;241;43m*\u001b[39;49m\u001b[38;5;241;43m*\u001b[39;49m\u001b[43mkwargs\u001b[49m\u001b[43m)\u001b[49m\n\u001b[1;32m    364\u001b[0m     result_blocks \u001b[38;5;241m=\u001b[39m extend_blocks(applied, result_blocks)\n\u001b[1;32m    366\u001b[0m out \u001b[38;5;241m=\u001b[39m \u001b[38;5;28mtype\u001b[39m(\u001b[38;5;28mself\u001b[39m)\u001b[38;5;241m.\u001b[39mfrom_blocks(result_blocks, \u001b[38;5;28mself\u001b[39m\u001b[38;5;241m.\u001b[39maxes)\n",
      "File \u001b[0;32m~/.local/lib/python3.10/site-packages/pandas/core/internals/blocks.py:796\u001b[0m, in \u001b[0;36mBlock.copy\u001b[0;34m(self, deep)\u001b[0m\n\u001b[1;32m    794\u001b[0m refs: BlockValuesRefs \u001b[38;5;241m|\u001b[39m \u001b[38;5;28;01mNone\u001b[39;00m\n\u001b[1;32m    795\u001b[0m \u001b[38;5;28;01mif\u001b[39;00m deep:\n\u001b[0;32m--> 796\u001b[0m     values \u001b[38;5;241m=\u001b[39m \u001b[43mvalues\u001b[49m\u001b[38;5;241;43m.\u001b[39;49m\u001b[43mcopy\u001b[49m\u001b[43m(\u001b[49m\u001b[43m)\u001b[49m\n\u001b[1;32m    797\u001b[0m     refs \u001b[38;5;241m=\u001b[39m \u001b[38;5;28;01mNone\u001b[39;00m\n\u001b[1;32m    798\u001b[0m \u001b[38;5;28;01melse\u001b[39;00m:\n",
      "\u001b[0;31mKeyboardInterrupt\u001b[0m: "
     ]
    }
   ],
   "source": [
    "['Dire'] = 1\n",
    "rumma_chunk['Dire'] = rumma_chunk['Dire'].astype('int16')\n",
    "rumma_chunk_piovt = rumma_chunk.pivot_table(index='term', values='Dire', columns='gene',fill_value=0).astype(int)"
   ]
  },
  {
   "cell_type": "code",
   "execution_count": 26,
   "metadata": {},
   "outputs": [
    {
     "name": "stdout",
     "output_type": "stream",
     "text": [
      "-148517\n"
     ]
    }
   ],
   "source": [
    "j = 0\n",
    "for i in range(0, 10000):\n",
    "    k = j - 148517\n",
    "    j += 148517\n",
    "    print(k)\n",
    "    \n",
    "    break"
   ]
  },
  {
   "cell_type": "code",
   "execution_count": 112,
   "metadata": {},
   "outputs": [],
   "source": [
    "n = 1000000\n",
    "chunks = [rumma[i:i+n] for i in range(0,rumma.shape[0],n)]"
   ]
  },
  {
   "cell_type": "code",
   "execution_count": 103,
   "metadata": {},
   "outputs": [],
   "source": [
    "def convert_to_matrix(chunk):\n",
    "    chunk['Dire'] = chunk['term'].apply(lambda x: 1 if x.endswith('up') else -1).values\n",
    "    chunk['term'] = chunk['term'].str.split('up|dn').str[0]\n",
    "    matrix = chunk.pivot_table(index='term', values='Dire', columns='gene', fill_value=0).astype('int16')\n",
    "    return matrix"
   ]
  },
  {
   "cell_type": "code",
   "execution_count": 126,
   "metadata": {},
   "outputs": [],
   "source": [
    "pd.set_option('mode.chained_assignment', None)\n"
   ]
  },
  {
   "cell_type": "code",
   "execution_count": 127,
   "metadata": {},
   "outputs": [
    {
     "name": "stdout",
     "output_type": "stream",
     "text": [
      "0\n",
      "1\n",
      "2\n",
      "3\n",
      "4\n",
      "5\n",
      "6\n",
      "7\n",
      "8\n",
      "9\n",
      "10\n",
      "11\n",
      "12\n",
      "13\n",
      "14\n",
      "15\n",
      "16\n",
      "17\n",
      "18\n",
      "19\n",
      "20\n",
      "21\n",
      "22\n",
      "23\n",
      "24\n",
      "25\n",
      "26\n",
      "27\n",
      "28\n",
      "29\n",
      "30\n",
      "31\n",
      "32\n",
      "33\n",
      "34\n",
      "35\n",
      "36\n",
      "37\n",
      "38\n",
      "39\n",
      "40\n",
      "41\n",
      "42\n",
      "43\n",
      "44\n",
      "45\n",
      "46\n",
      "47\n",
      "48\n",
      "49\n",
      "50\n",
      "51\n",
      "52\n",
      "53\n",
      "54\n",
      "55\n",
      "56\n",
      "57\n",
      "58\n",
      "59\n",
      "60\n",
      "61\n",
      "62\n",
      "63\n",
      "64\n",
      "65\n",
      "66\n",
      "67\n",
      "68\n",
      "69\n",
      "70\n",
      "71\n",
      "72\n",
      "73\n",
      "74\n",
      "75\n",
      "76\n",
      "77\n",
      "78\n",
      "79\n",
      "80\n",
      "81\n",
      "82\n",
      "83\n",
      "84\n",
      "85\n",
      "86\n",
      "87\n",
      "88\n",
      "89\n",
      "90\n",
      "91\n",
      "92\n",
      "93\n",
      "94\n",
      "95\n",
      "96\n",
      "97\n",
      "98\n",
      "99\n",
      "100\n",
      "101\n",
      "102\n",
      "103\n",
      "104\n",
      "105\n",
      "106\n",
      "107\n",
      "108\n",
      "109\n",
      "110\n",
      "111\n",
      "112\n",
      "113\n",
      "114\n",
      "115\n",
      "116\n",
      "117\n",
      "118\n",
      "119\n",
      "120\n",
      "121\n",
      "122\n",
      "123\n",
      "124\n",
      "125\n",
      "126\n",
      "127\n",
      "128\n",
      "129\n",
      "130\n",
      "131\n",
      "132\n",
      "133\n",
      "134\n",
      "135\n",
      "136\n",
      "137\n",
      "138\n",
      "139\n",
      "140\n",
      "141\n",
      "142\n",
      "143\n",
      "144\n",
      "145\n",
      "146\n",
      "147\n",
      "148\n"
     ]
    }
   ],
   "source": [
    "i = 0\n",
    "combined_matrix = pd.DataFrame()\n",
    "for chunk in chunks:\n",
    "    print(i)\n",
    "    combined_matrix = pd.concat([combined_matrix,convert_to_matrix(chunk)]).fillna(0).astype('int16')\n",
    "    i += 1"
   ]
  },
  {
   "cell_type": "code",
   "execution_count": 129,
   "metadata": {},
   "outputs": [],
   "source": [
    "combined_matrix.to_pickle('RummaDB_matrix.pkl')"
   ]
  },
  {
   "cell_type": "code",
   "execution_count": 130,
   "metadata": {},
   "outputs": [
    {
     "name": "stdout",
     "output_type": "stream",
     "text": [
      "<class 'pandas.core.frame.DataFrame'>\n",
      "Index: 88835 entries, GSE130182-0-vs-1-human  to GSE99745-2-vs-4-human \n",
      "Columns: 62217 entries, A1BG to S100A11P6\n",
      "dtypes: int16(62217)\n",
      "memory usage: 10.3+ GB\n"
     ]
    }
   ],
   "source": [
    "combined_matrix.info()"
   ]
  },
  {
   "cell_type": "markdown",
   "metadata": {},
   "source": [
    "#### Common betweeen Chempert and RummaDB"
   ]
  },
  {
   "cell_type": "code",
   "execution_count": 144,
   "metadata": {},
   "outputs": [
    {
     "data": {
      "text/plain": [
       "Index(['GSE70138', 'GSE92742', 'E-MTAB-798', 'GSE92466', 'GSE119283',\n",
       "       'GSE119282', 'GSE30242', 'GSE119280', 'GSE9055', 'GSE119279',\n",
       "       ...\n",
       "       'GSE34916', 'GSE42189', 'GSE4852', 'GSE52488', 'GSE53999', 'GSE9988',\n",
       "       'GSE5415', 'GSE9080', 'GSE55608', 'GSE99926'],\n",
       "      dtype='object', name='Data_Accession', length=210)"
      ]
     },
     "execution_count": 144,
     "metadata": {},
     "output_type": "execute_result"
    }
   ],
   "source": [
    "chempert_info = pd.read_csv('/home/sbl/Documents/Chempert Database/Information_for_transcriptional_responses(1).csv')\n",
    "chempert_info[chempert_info['Species']=='Human']['Data_Accession'].value_counts().index"
   ]
  },
  {
   "cell_type": "code",
   "execution_count": 177,
   "metadata": {},
   "outputs": [],
   "source": [
    "all_ids = []\n",
    "for i in combined_matrix.index.str.split('-').str[0]:\n",
    "    if len(i.split(',')) > 1:\n",
    "        for i in i.split(','):\n",
    "            all_ids.append(i)\n",
    "    else:\n",
    "        all_ids.append(i)"
   ]
  },
  {
   "cell_type": "code",
   "execution_count": 178,
   "metadata": {},
   "outputs": [
    {
     "data": {
      "text/plain": [
       "{'GSE111717', 'GSE130381', 'GSE86577'}"
      ]
     },
     "execution_count": 178,
     "metadata": {},
     "output_type": "execute_result"
    }
   ],
   "source": [
    "set(chempert_info[chempert_info['Species']=='Human']['Data_Accession'].value_counts().index).intersection(set(all_ids))"
   ]
  },
  {
   "cell_type": "code",
   "execution_count": 179,
   "metadata": {},
   "outputs": [
    {
     "data": {
      "text/html": [
       "<div>\n",
       "<style scoped>\n",
       "    .dataframe tbody tr th:only-of-type {\n",
       "        vertical-align: middle;\n",
       "    }\n",
       "\n",
       "    .dataframe tbody tr th {\n",
       "        vertical-align: top;\n",
       "    }\n",
       "\n",
       "    .dataframe thead th {\n",
       "        text-align: right;\n",
       "    }\n",
       "</style>\n",
       "<table border=\"1\" class=\"dataframe\">\n",
       "  <thead>\n",
       "    <tr style=\"text-align: right;\">\n",
       "      <th></th>\n",
       "      <th>Response_ID</th>\n",
       "      <th>Chemical_Compound</th>\n",
       "      <th>Chemical_ID</th>\n",
       "      <th>Data_Accession</th>\n",
       "      <th>Cell_Source</th>\n",
       "      <th>Species</th>\n",
       "      <th>Duration</th>\n",
       "      <th>Concentration</th>\n",
       "      <th>Expression_ID</th>\n",
       "      <th>Dataset_Name</th>\n",
       "      <th>Data_Accession_link</th>\n",
       "    </tr>\n",
       "  </thead>\n",
       "  <tbody>\n",
       "    <tr>\n",
       "      <th>150</th>\n",
       "      <td>RID00151</td>\n",
       "      <td>Acarbose</td>\n",
       "      <td>CID51359</td>\n",
       "      <td>E-MTAB-798</td>\n",
       "      <td>Hepatocyte</td>\n",
       "      <td>Human</td>\n",
       "      <td>24h</td>\n",
       "      <td>10000uM</td>\n",
       "      <td>EID0648</td>\n",
       "      <td>human_hepatocyte_E-MTAB-798_acarbose_24h_10000...</td>\n",
       "      <td>https://www.ebi.ac.uk/arrayexpress/experiments...</td>\n",
       "    </tr>\n",
       "    <tr>\n",
       "      <th>151</th>\n",
       "      <td>RID00152</td>\n",
       "      <td>Acarbose</td>\n",
       "      <td>CID51359</td>\n",
       "      <td>E-MTAB-798</td>\n",
       "      <td>Hepatocyte</td>\n",
       "      <td>Human</td>\n",
       "      <td>24h</td>\n",
       "      <td>2000uM</td>\n",
       "      <td>EID0649</td>\n",
       "      <td>human_hepatocyte_E-MTAB-798_acarbose_24h_2000m...</td>\n",
       "      <td>https://www.ebi.ac.uk/arrayexpress/experiments...</td>\n",
       "    </tr>\n",
       "    <tr>\n",
       "      <th>152</th>\n",
       "      <td>RID00153</td>\n",
       "      <td>Acetamidofluorene</td>\n",
       "      <td>CID01777</td>\n",
       "      <td>E-MTAB-798</td>\n",
       "      <td>Hepatocyte</td>\n",
       "      <td>Human</td>\n",
       "      <td>24h</td>\n",
       "      <td>50uM</td>\n",
       "      <td>EID0650</td>\n",
       "      <td>human_hepatocyte_E-MTAB-798_acetamidofluorene_...</td>\n",
       "      <td>https://www.ebi.ac.uk/arrayexpress/experiments...</td>\n",
       "    </tr>\n",
       "    <tr>\n",
       "      <th>153</th>\n",
       "      <td>RID00154</td>\n",
       "      <td>Acetazolamide</td>\n",
       "      <td>CID57082</td>\n",
       "      <td>E-MTAB-798</td>\n",
       "      <td>Hepatocyte</td>\n",
       "      <td>Human</td>\n",
       "      <td>24h</td>\n",
       "      <td>120uM</td>\n",
       "      <td>EID0651</td>\n",
       "      <td>human_hepatocyte_E-MTAB-798_acetazolamide_24h_...</td>\n",
       "      <td>https://www.ebi.ac.uk/arrayexpress/experiments...</td>\n",
       "    </tr>\n",
       "    <tr>\n",
       "      <th>154</th>\n",
       "      <td>RID00155</td>\n",
       "      <td>Acetazolamide</td>\n",
       "      <td>CID57082</td>\n",
       "      <td>E-MTAB-798</td>\n",
       "      <td>Hepatocyte</td>\n",
       "      <td>Human</td>\n",
       "      <td>24h</td>\n",
       "      <td>600uM</td>\n",
       "      <td>EID0652</td>\n",
       "      <td>human_hepatocyte_E-MTAB-798_acetazolamide_24h_...</td>\n",
       "      <td>https://www.ebi.ac.uk/arrayexpress/experiments...</td>\n",
       "    </tr>\n",
       "    <tr>\n",
       "      <th>...</th>\n",
       "      <td>...</td>\n",
       "      <td>...</td>\n",
       "      <td>...</td>\n",
       "      <td>...</td>\n",
       "      <td>...</td>\n",
       "      <td>...</td>\n",
       "      <td>...</td>\n",
       "      <td>...</td>\n",
       "      <td>...</td>\n",
       "      <td>...</td>\n",
       "      <td>...</td>\n",
       "    </tr>\n",
       "    <tr>\n",
       "      <th>82265</th>\n",
       "      <td>RID82266</td>\n",
       "      <td>Sulforaphane</td>\n",
       "      <td>CID01496</td>\n",
       "      <td>GSE92742</td>\n",
       "      <td>HA1E</td>\n",
       "      <td>Human</td>\n",
       "      <td>24h</td>\n",
       "      <td>3.32999992371uM</td>\n",
       "      <td>EID0494</td>\n",
       "      <td>human_HA1E_GSE92742_sulforaphane_24h_3.3299999...</td>\n",
       "      <td>https://www.ncbi.nlm.nih.gov/geo/query/acc.cgi...</td>\n",
       "    </tr>\n",
       "    <tr>\n",
       "      <th>82266</th>\n",
       "      <td>RID82267</td>\n",
       "      <td>Sulforaphane</td>\n",
       "      <td>CID01496</td>\n",
       "      <td>GSE92742</td>\n",
       "      <td>HA1E</td>\n",
       "      <td>Human</td>\n",
       "      <td>24h</td>\n",
       "      <td>1.11000001431uM</td>\n",
       "      <td>EID0494</td>\n",
       "      <td>human_HA1E_GSE92742_sulforaphane_24h_1.1100000...</td>\n",
       "      <td>https://www.ncbi.nlm.nih.gov/geo/query/acc.cgi...</td>\n",
       "    </tr>\n",
       "    <tr>\n",
       "      <th>82267</th>\n",
       "      <td>RID82268</td>\n",
       "      <td>Sulforaphane</td>\n",
       "      <td>CID01496</td>\n",
       "      <td>GSE92742</td>\n",
       "      <td>HA1E</td>\n",
       "      <td>Human</td>\n",
       "      <td>24h</td>\n",
       "      <td>0.370000004768uM</td>\n",
       "      <td>EID0494</td>\n",
       "      <td>human_HA1E_GSE92742_sulforaphane_24h_0.3700000...</td>\n",
       "      <td>https://www.ncbi.nlm.nih.gov/geo/query/acc.cgi...</td>\n",
       "    </tr>\n",
       "    <tr>\n",
       "      <th>82268</th>\n",
       "      <td>RID82269</td>\n",
       "      <td>Sulforaphane</td>\n",
       "      <td>CID01496</td>\n",
       "      <td>GSE92742</td>\n",
       "      <td>HA1E</td>\n",
       "      <td>Human</td>\n",
       "      <td>24h</td>\n",
       "      <td>0.119999997318uM</td>\n",
       "      <td>EID0494</td>\n",
       "      <td>human_HA1E_GSE92742_sulforaphane_24h_0.1199999...</td>\n",
       "      <td>https://www.ncbi.nlm.nih.gov/geo/query/acc.cgi...</td>\n",
       "    </tr>\n",
       "    <tr>\n",
       "      <th>82269</th>\n",
       "      <td>RID82270</td>\n",
       "      <td>Sulforaphane</td>\n",
       "      <td>CID01496</td>\n",
       "      <td>GSE92742</td>\n",
       "      <td>HA1E</td>\n",
       "      <td>Human</td>\n",
       "      <td>24h</td>\n",
       "      <td>0.0399999991059uM</td>\n",
       "      <td>EID0494</td>\n",
       "      <td>human_HA1E_GSE92742_sulforaphane_24h_0.0399999...</td>\n",
       "      <td>https://www.ncbi.nlm.nih.gov/geo/query/acc.cgi...</td>\n",
       "    </tr>\n",
       "  </tbody>\n",
       "</table>\n",
       "<p>78932 rows × 11 columns</p>\n",
       "</div>"
      ],
      "text/plain": [
       "      Response_ID  Chemical_Compound Chemical_ID Data_Accession Cell_Source  \\\n",
       "150      RID00151           Acarbose    CID51359     E-MTAB-798  Hepatocyte   \n",
       "151      RID00152           Acarbose    CID51359     E-MTAB-798  Hepatocyte   \n",
       "152      RID00153  Acetamidofluorene    CID01777     E-MTAB-798  Hepatocyte   \n",
       "153      RID00154      Acetazolamide    CID57082     E-MTAB-798  Hepatocyte   \n",
       "154      RID00155      Acetazolamide    CID57082     E-MTAB-798  Hepatocyte   \n",
       "...           ...                ...         ...            ...         ...   \n",
       "82265    RID82266       Sulforaphane    CID01496       GSE92742        HA1E   \n",
       "82266    RID82267       Sulforaphane    CID01496       GSE92742        HA1E   \n",
       "82267    RID82268       Sulforaphane    CID01496       GSE92742        HA1E   \n",
       "82268    RID82269       Sulforaphane    CID01496       GSE92742        HA1E   \n",
       "82269    RID82270       Sulforaphane    CID01496       GSE92742        HA1E   \n",
       "\n",
       "      Species Duration      Concentration Expression_ID  \\\n",
       "150     Human      24h            10000uM       EID0648   \n",
       "151     Human      24h             2000uM       EID0649   \n",
       "152     Human      24h               50uM       EID0650   \n",
       "153     Human      24h              120uM       EID0651   \n",
       "154     Human      24h              600uM       EID0652   \n",
       "...       ...      ...                ...           ...   \n",
       "82265   Human      24h    3.32999992371uM       EID0494   \n",
       "82266   Human      24h    1.11000001431uM       EID0494   \n",
       "82267   Human      24h   0.370000004768uM       EID0494   \n",
       "82268   Human      24h   0.119999997318uM       EID0494   \n",
       "82269   Human      24h  0.0399999991059uM       EID0494   \n",
       "\n",
       "                                            Dataset_Name  \\\n",
       "150    human_hepatocyte_E-MTAB-798_acarbose_24h_10000...   \n",
       "151    human_hepatocyte_E-MTAB-798_acarbose_24h_2000m...   \n",
       "152    human_hepatocyte_E-MTAB-798_acetamidofluorene_...   \n",
       "153    human_hepatocyte_E-MTAB-798_acetazolamide_24h_...   \n",
       "154    human_hepatocyte_E-MTAB-798_acetazolamide_24h_...   \n",
       "...                                                  ...   \n",
       "82265  human_HA1E_GSE92742_sulforaphane_24h_3.3299999...   \n",
       "82266  human_HA1E_GSE92742_sulforaphane_24h_1.1100000...   \n",
       "82267  human_HA1E_GSE92742_sulforaphane_24h_0.3700000...   \n",
       "82268  human_HA1E_GSE92742_sulforaphane_24h_0.1199999...   \n",
       "82269  human_HA1E_GSE92742_sulforaphane_24h_0.0399999...   \n",
       "\n",
       "                                     Data_Accession_link  \n",
       "150    https://www.ebi.ac.uk/arrayexpress/experiments...  \n",
       "151    https://www.ebi.ac.uk/arrayexpress/experiments...  \n",
       "152    https://www.ebi.ac.uk/arrayexpress/experiments...  \n",
       "153    https://www.ebi.ac.uk/arrayexpress/experiments...  \n",
       "154    https://www.ebi.ac.uk/arrayexpress/experiments...  \n",
       "...                                                  ...  \n",
       "82265  https://www.ncbi.nlm.nih.gov/geo/query/acc.cgi...  \n",
       "82266  https://www.ncbi.nlm.nih.gov/geo/query/acc.cgi...  \n",
       "82267  https://www.ncbi.nlm.nih.gov/geo/query/acc.cgi...  \n",
       "82268  https://www.ncbi.nlm.nih.gov/geo/query/acc.cgi...  \n",
       "82269  https://www.ncbi.nlm.nih.gov/geo/query/acc.cgi...  \n",
       "\n",
       "[78932 rows x 11 columns]"
      ]
     },
     "execution_count": 179,
     "metadata": {},
     "output_type": "execute_result"
    }
   ],
   "source": [
    "chempert_info[chempert_info['Species']=='Human']"
   ]
  },
  {
   "cell_type": "code",
   "execution_count": 181,
   "metadata": {},
   "outputs": [
    {
     "data": {
      "text/plain": [
       "Data_Accession\n",
       "GSE70138      42978\n",
       "GSE92742      34702\n",
       "E-MTAB-798      339\n",
       "GSE92466         48\n",
       "GSE119283        36\n",
       "              ...  \n",
       "GSE9988           1\n",
       "GSE5415           1\n",
       "GSE9080           1\n",
       "GSE55608          1\n",
       "GSE99926          1\n",
       "Name: count, Length: 210, dtype: int64"
      ]
     },
     "execution_count": 181,
     "metadata": {},
     "output_type": "execute_result"
    }
   ],
   "source": [
    "chempert_info[chempert_info['Species']=='Human']['Data_Accession'].value_counts()"
   ]
  },
  {
   "cell_type": "code",
   "execution_count": 236,
   "metadata": {},
   "outputs": [
    {
     "data": {
      "text/plain": [
       "Index(['Mgatp', 'Sulphate', 'Hydron;sulfate',\n",
       "       'Acti mag 250 caplet; Actyform; F.m. formula; Female advantage; Formule 3000; Mag-force; Magnelis; Magnesium; Magnesium and zinc; Magnesium citramate cap; Magnesium citrate; Magnesium dietary supplement; Magnesium oxide powder heavy; Magnesium supplement; Magnesium-cl; Magnesium-tab; Magnex liq; Magnogene comprimes enrobes; Nmc magma mineral pack; Port a mins super magnesium 188; Port a mins super magnesium 375; Slow-mag; Slow-mag-tab',\n",
       "       'Selenomethionine', 'Semet', 'Phosphate',\n",
       "       '1,2,3-propanetriol; 1,2,3-trihydroxypropane; 2x first essence; 3 en 1 cleanser. deep cleansing; 3ce liqu id eye liner black; 3ce liqu id eye liner brown; 3d lifting; Ab duo whitening a; Ac all; Ac clear sheet mask; Ac control daily mask; Actifirm recovery toner gowoonsesang expert; Active resurgence; Active resurgence eye; Active resurgence serum; Active resurgence toner; Adipowin; Adult glycerin laxative; Advanced cell boosting ex night; Advanced cell boosting ex toner; Advanced cell boosting ex watery; Africa bird homme all in one moisturizer; Agarol plain; Age defense pro prebiotic technology econature; Ala-c cell clinic solution; All in one dual mask; All in one multi foam cleanser; Allvit revital; Allvit revital skin; Allvit skin lighting cleansing foa m; Aloe soothing; Always bright extra brightening; Always bright lightening oxy peel; Always decongest relief ample; Always decongest soothing mask; Always pure first aid; Always pure first aid toner; An adc egf wrinkle eye; An adc sp intensive wrinkle eye; An12; Anti wrinkle effect; Anti wrinkle effect ample; Anti wrinkle effect eye; Anti wrinkle eye serum; Anti wrinkle hand essence; Antizom; Anypack aloe vera sheet mask; Anypack aloe vera tencel mask; Anypack crysta l season second skin hydro face mask; Anypack gold season second skin hydro face mask; Anypack multi active hydroge l eye; Anypack pearl sheet mask; Anypack pearl tencel mask; Anypack pomegranate sheet mask; Anypack pomegranate tencel mask; Anypack royal jel ly sheet mask; Anypack royal jel ly tencel mask; Apple bubble; Aqua collagen hyaluronic acid hydro mask; Aqua collagen marine hydro lip; Aqua collagen marine hydro mask; Aqua collagen marine hydro mask 25g; Aqua collagen solution eye treatment mask; Aqua collagen solution marine hydrogel eye; Aqua rush; Aqua rush cover cushion; Aqua rush serum; Aquato baby; Artificial tears; At alpha; At alpha plus; Ato all; Ato pollen; Atono2 oxygen baby bath and; Atono2 oxygen baby cream; Atono2 oxygen baby soothing gel; Atono2 oxygen bubble foam; Atono2 oxygen pure bath and; Atorak ampoule; Atorak intensive moisture; Atorak intensive mousture; Atosis mist; Avedana glycerin laxative; B bind rejuvenating neoendorphin mask pack; Baborganic pure energizing skin; Baborganic pure line reducing; Baby essence; Baby head and body jelly wash; Baby oil; Balmers hanryeoncho scalp scooling mud pack; Beaubeaute collagen hydroge l essence beauty mask; Beaubeaute placenta hydroge l essence beauty mask; Bee venom; Bee venom cleansing foam; Bee venom toner; Bee venom treatment spot; Beevenom; Beevenom emulsion; Beevenom mask sheet; Beevenom sleeping mask; Beevenom toner; Benton fermentation essence; Benton fermentation eye; Better than nature skin softner; Biellee pollen whitening wrinkle time repair ampoule; Bio miracle amethyst mask; Bio skin crystal bio-cellulose mask; Bk cell 5days of secret aqua moisturizing; Bk cell 5days of secret mystic cleansing; Bk cell 5days of secret purity wrinkle lifting; Black paint rubar; Blemish potion; Blemish serum; Blemish soothing moisturizer; Blemish toner; Blister balm protective lip treatment; Blooming shield to foam cleanser; Blooming shield waterful; Body hair moisturizing oil; Body scrub; Bodyholic red potion hair and body mist; Bodyholic sky potion hair and body mist; Bodyholic yellow potion hair and body mist; Botanic heal boh air jet daily mask hyaluronic acid; Botanic heal boh air jet daily mask madecassoside; Brtc animal horse; Brtc animal mask shark; Brtc animal mask swallow; Brtc animal msk sheep; Brtc anti blemish complex; Brtc blue phyto complex; Brtc bright eye vitalizer; Brtc jasmine 3d jelly foundation; Brtc make over mask bewitch; Brtc make over mask empress; Brtc make over mask purity; Brtc make over mask temptation; Brtc overnight pore tightener; Brtc purple vigor complex; Brtc tannin pore complex; Brtc vitalizer sleeping pack; Brtc white phyto complex; Brucke a.c.c. calming mist; Bubble refining cleanser; Burzangmury gold; Burzangmury gold treatment; By pharmicell lab beaucell dual hydrogel mask; By pharmicell lab the prestige; Calming skin; Camelia body; Careall artifical tears; Carecella bodyshaper warming; Carecella carboxy; Carecella facial line-up lifting; Carecella facial line-up tightening serum; Carecella vfb bio peel serum; Carecellla facial line-up; Cell renew bio micro peel soft; Cellboosting homme skin; Cellboosting whitening toner; Cellisys ex egf intense mask egf; Cellisys ex egf wrinkle 29 activator; Cellisys ex wrinkle solution; Cellpium rich body; Cellpium shinyline; Cellstory plus cell cleanser; Cellzyme ampoule; Centella scar; Ceviangs hydro effective moisturizing; Ceviangs revolutionary ultra rejuvenating ampoule; Ceviangs revolutionary ultra rejuvenating ampoule special; Ceviangs ultra hydro effective sun; Ceviangs ultra total b b; Chica y chico killing star cleanser; Cicatrix skin protectant; Cizar first calming; Cizar first calming toner; Clapiel vita c serum; Cleanser balancing; Cleanser sensitive skin; Clear eyes for dry eyes; Clear eyes pure relief for dry eyes; Clenziderm normal to dry skin acne therapeutic system; Clenziderm therapeutic moisturizer; Cliv barrier power; Cliv barrier power ampoule; Cliv character mask bee; Cliv character mask panda; Cliv character mask penguin; Cliv character mask tiger; Cliv ginseng berry premium; Cliv ginseng berry premium ampoule; Cliv ginseng berry premium eye; Cliv ryeoyun snow white; Cliv ryeoyun snow white ampoule; Cluederm body; Cluederm body 10.5g; Cluederm body 7.5g; Cluederm lifting; Co2 carbonic body fit; Co2 carbonic pack; Co2 polymer mask pack; Coca-glycerine control; Collagen resurgence laser ampoule; Collagen resurgence mask; Complete dermask; Cool mint aromatherapy mask; Coral s; Correct combo; Correct essential activator; Correway personal lubricant; Cotton armpit; Cp bebe; Cp bebe wash; Cp medi; Cp medi theraphy; Curel therapeutic moisturizing lotion; Cvs moisturizing lubricating eye; Cvs moisturizing lubricating eye twin pack; Cvs pharmacy childrens glycerin suppositories laxative; Cvs pharmacy glycerin laxative; Cvs pharmacy glycerin suppositories laxative; Danchun jade oriental herb cosmetics; Dcs blemish care; Dcs blemish care ampoule; Dcs blemish care foam cleanser; Dcs intensive vital; Dcs intensive vital mask; Dcs intensive vital toner; Dcs merderm jeju lava seawater cleansing foam; Dcs pore heating cleansing; Dcs pore refining; Dcs pore tightening serum; Dead skin perfect cleanser; Dearsir aqua shuttle essence skin; Dearsir gentle relief cleansing fo am; Dearsir perfection fluid; Deer velvet ampoule; Derm-apply; Derma dr.lab hydromoist balancing cream; Derma dr.lab hydromoist day gel serum; Derma dr.lab hydromoist essential toner; Derma dr.lab hydromoist mild bubble foam; Derma dr.lab hydromoist water gel cream; Dermoessential post lnc; Dermoessential post lnc mist; Dermoessential post lnc serum; Dg health artifical tears; Doobony mosrepel; Double s essence clean; Double s essence clean 2g 5ea; Dr deep deep fresh; Dr deep multiemulsion; Dr deep skintoner; Dr g whitening fortifier by egf; Dr vita clinic gently vita exfoliator; Dr. althea foaming cleanser and bubble o2 mask; Dr. babor derma cellular ultimate firming decollete mask; Dr. gloderm tabrx moisture; Dr. gloderm tabrx moisture mask; Dr. gloderm time to moisture mask; Dr. iaso uv total base spf 46 pa; Dr. iaso vita white; Dr. serse; Dr.althea drink up essential mist; Dr.althea herb therapy velvet mask; Dr.g actifirm real lifting; Dr.g actifirm real lifting cell essence; Dr.g actifirm real lifting emulsion; Dr.g actifirm real lifting eye; Dr.g aqua collagen mask; Dr.g aquasis moisture ampoule; Dr.g aquasis moisture toner; Dr.g dewrinkle booster ample by egf; Dr.g dewrinkle fortifier by egf; Dr.g honey hand care; Dr.g hydra fresh ph mist; Dr.g hydra full of water; Dr.g hydra intensive; Dr.g hydra intensive bubble foam cleanser; Dr.g hydra intensive cleansing water; Dr.g lavender hand care; Dr.g olive hand care; Dr.g pore mask peeling; Dr.g red-blemish clear; Dr.g red-blemish soothing ampoule; Dr.g revital enhancer; Dr.g revital enhancer cleansing foam; Dr.g revital enhancer emulsion; Dr.g revital enhancer toner; Dr.g whitening booster ample by egf; Dr.g whitening fortifier by egf; Dr.g whitening reformer by egf; Dr.g whitening vita mask; Dr.g wrinkle snail mask; Dr.isao vita white serum; Dr.jart all that lift and firm; Dr.jart prescriptment all that lift and firm; Dr.serse serum; Dry eye relief; Dry eye tears; Dsc pore cleansing; Dynarex hydrogel; Easydew daily double hydra crea m mask; Easydew daily double hydra toner; Easydew daily extra mild peeling; Easydew daily moist cleansing whip foa m; Effective hair strengthen; Egf crystal 10 ppm; Elikin anti wrinkle maskpack; Elikin aqua maskpack; Elikin collagen maskpack; Elikin whitening maskpack; Equate lubricating eye; Equate restore dual sensitive lubricant; Eros aqua; Eros aqua based; Eros aqua sensations water based; Eros explorer man; Eros extended love 1 top level; Eros extended love 2 top level; Eros extended love 3 top level; Eros extended love glide 1 top level; Eros extended love glide 2 top level; Eros extended love glide 3 top level; Eros fisting gel slide x; Eros fisting gel ultra x; Eros relax woman; Eros tasty fruits; Essenherb tea tree 70 sleeping pack; Essenherb tea tree 90 calming toner; Essential body moisturizing essence; Essential body nutritive butter; Essential body relaxing essence; Essential solution caviar mask sheet; Essential solution coenzyme q10 mask sheet; Essential solution collagen mask sheet; Essential solution honey mask sheet; Essential solution hyaluronic acid mask sheet; Essential solution pearl mask sheet; Essential solution red ginseng mask sheet; Essential solution vita a mask sheet; Essential solution vita c mask sheet; Eveserum; Eye contour anti-puffiness and dark circles. eye correct; Eye dclare ii lubricant eye drops; Eye drops lubricating tears; Fedora cinderella; Fedora concentrating hydro moisturizer; Fedora concentrating hydro serum; Fedora concentrating hydro toner; Fedora firming intensive eye; Fedora oriental spa ampoule; Fikia marine brightening serum; Fikia marine velvet whitening; Find bichon cleansing mask; Firming camellia mask; Flex power cream; Flexpower recovery; Floria whitening emulsion; Fluidbase max; Forever lasting precious essential water; Forever lasting precious oil essence; Formula h; Freds dry eye relief; Fresh after vacance body soothing; G3s ampoule; Galactomyces man booster; Galentic hydrogel; Genteal tears (moderate); Gericare artificial tears lubricant; Gericare artificial tears lubricant eye; Ginseng berry eye lift; Ginseng royal silk eye; Ginseng royal silk fo am cleanser; Ginseng royal silk gold hydro mask; Ginseng royal silk gold hydro mask 10ea; Ginseng royal silk gold hydro mask 1ea; Ginseng royal silk watery; Ginseng stemcell mask; Ginsenoside rg1 rejuvenating moisturizing; Given by nature aloe mask sheet; Given by nature bamboo mask sheet; Given by nature cherry blossom mask sheet; Given by nature green tea mask sheet; Given by nature olive mask sheet; Given by nature rice mask sheet; Given by nature rose hip mask sheet; Given by nature tea tree mask sheet; Glizigen skin protectant; Glizygen skin protectant; Glowing marigold mask; Gly-rectal sup pour enfants; Glycerin; Glycerin adult; Glycerin laxative; Glycerin liq; Glycerin liquid; Glycerin liquid laxative enema(kaisalilu); Glycerin suppositories; Glycerin suppositories (children); Glycerin usp; Glycerin usp (liquid); Glycerin, anhydrous; Glycerin,anhydrous; Glycerine; Glycerine sup pour adultes; Glycerinum; Glycerol; Glycerol-saline control; Glycérine; Glycérol; Glyzerin; Glyzigen gel intimate; Gmdansu ampoule; Golden ball healer; Goodsense lubricating eye drops; Grain timeless perfection; Greek yogurt pack blue berry; Greek yogurt pack orange; Green wheatgrass facial cleansing; Greentinol eye serum; Haesum marine fill; Haesum marine fill serum; Haesum marine fill softner; Hair regenerator; Hair treatment premium; Hand and nature anti wrinkle hand almond oil; Hand and nature anti wrinkle hand aragon oil; Hand therapy creme; Hanskin bio prism brightening fo aming cleanser; Hanskin hyaluron skin essence; Herbal skin toner; Honest cleansing foa m; Honest tt mist; Honey bomb beauty; Huitomi; Huitomi pack; Huitomi serum; Hum; Hum body liner; Hum cc; Humco glycerin and artificial rose water; Hwang geum-san gold hair; Hyalucollagen essence; Hyalucollagen moisture; Hyalucollagen moisture skin; Hyalucollagen moisture toner; Hyalucollagen moisturizer combination skin; Hyalucollagen moisturizer normal and dry skin; Hydra balancing rose mist; Hydra lifting firming fresh serum 24h; Hydra lifting firming moisturizing cream; Hydra lifting firming nourishing cream; Hydra lifting firming plus serum 24h; Hydra rose mask; Hydra treatment toner; Hydraface; I cellestin; Iaso for men white ex 2-in-1 fluid supreme; Iaso for men white ex after shave supreme; Iaso for men white ex supreme; Illite whitening; Im real rice smooth toner; Im real tea tree sebum and pore; Im sorry for my skin mask - brightening; Im sorry for my skin mask - revitalizing; Inclear; Infant glycerin laxative; Inibebe organic soapberry wash; Inner beauty cleansing tissue; Integral b keep calming mist; Intense care galactomyces first essence; Intense care galactomyces whitening essence; Intense care snail; Intense care snail ampoule; Intense care snail anti wrinkle whitening nutrition; Intense care snail essence; Intense care snail eye; Intense care snail hydro gel mask; Intense care snail skin; Intensive vital ampoule; Isleaf botanic shield deep pore cleasing foam; Isleaf botanic shield facial barrier gelcream; Isleaf botanic shield pollutant defending mask; Isleaf botanic shield shieldig mist; Isleaf clinic lime cleansing foam; Isleaf energy water; J9 ultra advanced intensive recovery serum; Jasmine 3d moist; Jasmine 3d whipping essence; Jasmine eco mist; Jayjun baby pure shining mask step1 blooming essence; Jayjun baby pure shining mask step3 hydro eye; Jayjun biocellulose mask; Jayjun real water brightening black mask step1 real water cleansing foa m; Jayjun rose blossom mask; Jci mn colloidal iodine cream; Jejuen aloe sleeping pack; Jejuen black bean ferment serum; Jejuen black bean ferment sleeping; Jejuen calming aloe ice pack; Jejuen calming aloe sheet mask; Jejuen calming broccoli ice mask; Jejuen camellia nourishing pack; Jejuen hyaluron sleeping pack; Jejuen lightening blueberry ice mask; Jejuen lightening hanrabong ice pack; Jejuen lightening hanrabong sheet mask; Jejuen lotus bubble foam cleanser; Jejuen lotus placenta eye; Jejuen no sebum lotus ice mask; Jejuen nourishing beet ice mask; Jejuen nourishing opuntia ice pack; Jejuen nourishing opuntia sheet mask; Jejuen pore tightening peppermint ice pack; Jejuen pore tightening peppermint sheet mask; Jejuen radiance; Jejuen radiance ampoule; Jejuen radiance eye; Jejuen radiance foam cleanser; Jejuen radiance toner; Jejuen radiance youth; Jejuen rapeflower pack; Jejuen volcanic ampoule sleeping pack; Jejuen waterful applemango ice pack; Jejuen waterful applemango sheet mask; Jejuen waterful peanut ice mask; Jenacell supercell serum; Jnh a-clear propolis spot serum; Jnh a-clear resurface sulfur; Korean cypress hair; Lavietox b project re set firming essence; Leader lubricating eye; Leader lubricating eye drops; Leaders mediu brightening milk pack; Leaders mediu clearing strawberry pack; Leaders mediu glossy honey pack; Leaders mediu moisturizing jasmine pack; Leaders mediu nutrition grain pack; Lebody fit body massager; Lemon; Lemon glycerin; Lemon glycerine swabsticks; Li om fermentation form elastic care secret serum; Lightening brightening moisturizing serum; Little pore daily serum; Longevity recovery moisturizing; Longevity recovery nourishing; Longevity recovery serum; Lubriderm intense skin repair; Luxury revitalizing moisturizing cream; Luxury revitalizing nourishing cream; Luxury revitalizing serum; M eros liquid aqua based; Maccola; Magic glow pure gel mask; Max hyaluronic formula ampoule; Max hyaluronic mask; Max hyaluronic stemcell eye; Max hyaluronic stemcell sleeping pack; Max hyaluronic uv stemcell sun block; Max2originale coenzyme q10 lint free ge l; Max2originale puredroge l ge l; Max2originale special mascara gold; Max2originale very berry eyeliner; Mecell red ginseng collagen 3d mask pack; Mecell rose coenzyme q10 serum mask pack; Medactive oral relief; Medi stem collagen; Medi stem collagen ampoule; Medi stem collagen toner; Medi stem eye; Medicell scalp; Mediclear dual spot day and night; Medpride lemon; Mefactory 3step piggy nose pack step 01 pore heating sheet; Mefactory cement peel off pack; Mefactory piggy peeling pad; Meijer lubricating eye; Meijer lubricating eye drops; Melano out cream; Melano out mask; Mewrinkle; Miel rosada; Minica-s; Mint blue facial mask; Miracle ato; Miracle ato moisture body wash; Miracle of the mose hair bar; Miru oriental whitening ampoule; Misoli shining care diamond premium gold hydro g el eye; Mizon enjoy vital up time anti wrinkle mask; Modlina peptide soothing essential hydrogel mask pack; Moisture cream; Moisture drops; Moisture essence mist; Moisturizing body; Mommy to be tummy; Monagra; Monoctanoin component d; Moran; Multi action balancing toner; Multi action power; Multi perfection super; My lovely butts; Mycellcare; Nano silver toothpaste; Natural cocktail pack; Natural olive scalp cooling hair essence; Natural olive scalp cooling hair pack; Natural savon 4in1 plus; Naturalth goat milk moisture; Naturalth goat milk moisture toner; Nature and health beauty (moisturizing cream, whitening cream); Nature and health beauty (moisturizing cream, whitening cream) (mineral oil and glycerin); Negative skin test control - glycerin; Neutracett all purpose; Neutracett tattoo; Neutracett ulcer; Niagara s; Noblesse homme refresh; Noblesse homme refresh toner; Nourishing cream; Nwi artificial tears eye; Nymphsyn eye; Nymphsyn face mask; Nymphsyn intensive serum; Nymphsyn maximizer; O sha mpoo premium; Oasis tears; Oasis tears multidose; Oasis tears pf; Oasis tears plus; Obeo 7way moisture; Oozoo face in-shot mask age cure ampoule 1; Oozoo face in-shot mask age cure ampoule 2; Oozoo face in-shot mask age cure mask; Oozoo face in-shot mask hydro lift ampoule 2; Oozoo face in-shot mask hydro lift mask; Oozoo face in-shot mask illumination ampoule 1; Oozoo face in-shot mask illumination ampoule 2; Oozoo face in-shot mask illumination mask; Oozoo face in-shot mask intensive white ampoule 2; Oozoo face in-shot mask intensive white mask; Oozoo face in-shot mask nutrient ampoule 2; Oozoo face in-shot mask nutrient mask; Or serum; Orajel dry mouth moistruizing; Oriental fermented; Origin horse sheet mask; Original power energy ampoule; Original power hydro ampoule; Original power lifting ampoule; Original power whitening and lineless ampoule; P9 photo cleanser; Pedia-lax; Pediatric glycerin; Pediatric glycerin laxative; Pepticol 5s ampoule; Peptide easter; Perfect calming; Perfect calming toner; Phyto therapy treatment; Pick me pad azulene moisture; Pick me pad make-up remover; Pick me pad oil control; Pink sweet potato facial cleansing; Placenta ex ampoule; Plagentra baby; Plagentra mothers belly; Plant stemcell vegf bfgf ample; Pleasure garden homme sports mask; Plu body scrub berry mix; Plu body scrub coconut; Plu body scrub hazelnut; Plu body scrub prestige silk edition; Plu moisture honey sugar facial scrub; Plu refresh peeling facial scrub; Plu soft peeling facial scrub; Polynesia lagoon water hydro emulsion; Polynesia lagoon water hydro eye; Polynesia lagoon water hydro skin; Pore tightening serum; Pororo friends moistful mask pack; Pororo friends smart pore guide mask pack; Pororo friends tong tong firming mask pack; Pororo friends white snow mask pack; Power ampoule anti wrinkle; Premium dr. althea essential skin conditioner silk mask; Premium dr. althea squalane silk mask; Premium natural bl hydrogel mask pack; Prestige caviar nourishing daily cream; Prevention oncology mouth rinse; Pro radiance renascent an infinite energizer; Pro radiance renascent an infinite energizer moisturizer; Prolong 101 man; Propanetriol; Pure hydrogel apple zone; Pure hydrogel mask pack; Pureforet brightening; Pureforet brightening toner; Pureforet hydrating; Pureforet hydrating toner; Pureforet skin balancing; Pureforet soothing; Pureforet soothing toner; Pureheals centella 70 toning swab; Pureheals propolis 80; Purifying oxygenating moisturizing cream; Purifying oxygenating serum; Quality choice lubricant tears eye; Quality choice lubricating eye drops; Queen perfume hair; Queens rose elysee concen trate dual ampoule; Ramosu kindal butter balm; Real squeeze aloe vera; Real squeeze aloe vera essence; Real squeeze aloe vera sleeping pack; Real squeeze aloe vera toner; Reborncell m-clinic; Red ginseng fermented toner; Refining pore clear pack; Refresh optive; Refresh optive advanced; Refresh optive advanced sensitive; Refresh optive fusion; Refresh optive fusion sensitive; Refresh optive gel drops; Refresh optive mega-3; Remember hydrosol double effect; Remember serum; Renewal serum; Renk essential hydra ampoule; Renk essential hydra skin softner; Renk time lab intense age renewal skin softner; Renovating regenerating moisturizing cream; Renovating regenerating nourishing cream; Renovating regenerating serum; Repiel perfect fit mask firming; Repiel perfect fit mask lightening; Repiel perfect fit mask moisturizing; Repiel perfect fit mask soothing; Repiel smart foot mask ultra rich; Repiel smart hand mask milky moisture; Repiel smart nail pack miracle butter; Repiel timeless aqua shot bio mask; Repiel timeless line shot bio mask; Repiel timeless mela shot bio mask; Repiel timeless redness shot bio mask; Resurface mask; Revitalizing c; Revitalizing c i2pl corrector ampoule; Revitalizing c i2pl mask; Revitalizing c serum; Revitalizing c toner; Revitalizing facial foam; Rexall sterile artificial tears eye drops; Richway amethyst hydrogel face mask; Round around comfort hydrating water; Rubelli wine foot packs; Rubelli wine hand packs; Ruby-cell 4u; Ruby-cell 4u ampoule; Ruby-cell 4u b b 10 in 1; Ruby-cell 4u bio cellulose mask; Ruby-cell 4u essential silky foaming cleanser; Ruby-cell 4u mist; Sallys box friendly collagen eye patch; Sayak; Scar serum; Seaweed mediclear healer ampoule; Seaweed mediclear mask; Seaweed mediclear stemcell bb; Sella classic natural cleansing bar; Sella classic natural gold serum; Sella natural baby; Sella natural body; Sella natural hair; Sella premium natural cleansing bar; Seniorclean bio; Shea butter steam fresh; Shea butter steam moist; Shieldlife ceramide ion mask; Shine control matte effect cream; Shine control moisturizing matte effect cream; Shine control sebum regulating gel; Shopko dry eye relief; Silkriller 3d gold pure rich gel; Silkriller 3d silver pure rich gel; Siseundeusi bless bathandshampoo; Siseundeusi luminant pack cleanser; Siseundeusi scalp essence; Siseundeusi ultra spot; Skederm lifting; Skederm vitamin c x30 power serum; Skin doctors photo age reverse; Skin doctors photo age reverse night serum; Skinfood cacao hand balm high moist type; Skinfood honey melon hand balm moist type; Skinovage nanocell age protecting; Snail; Snail bee high content; Snail bee high content essence; Snail bee high content mask pack; Snail bee high content skin; Snail bee high content steam; Snail essential ex wrinkle; Snail essential ex wrinkle mask sheet; Snail essential ex wrinkle toner; Snail green caviar hydro mask; Snail hydro mask; Snail pearl hydro mask; Snail recover healer; Snail red ginseng hydro mask; Snail repair whitening; Snail solu tion gold; Snail therapy 1000 hydrogel mask sheet; Snail therapy 70 eye; Snaytox anti wrinkle hydro mask; Snaytox wrinkle filler special set; Snp cat wrinkle face art mask; Solie essence; Solie toner; Soothing and moisture aloe vera 90 percent body; Soothing and moisture aloe vera 90 percent toner; Soothing and moisture aloe vera 92 percent soothing; Soriso bright aqua moisture; Soriso bright aqua pack; Spa mediterranee for hands repair hand; Srb 3 lighting white nutri; Stratuscare adult glycerin; Stratuscare glycerin laxative pediatric; Sun killing grapefruit; Sunburn soothing; Super aqua ampoule; Super aqua cleansing oil; Super aqua day; Super aqua eye; Super aqua facial foam; Super aqua max deep moisture hydrogel mask sheet; Super aqua max fresh watery; Super aqua max soft peeling; Super aqua max white c crystal essence; Super aqua max white c waterful toner; Super aqua night; Super aqua toner; Suyan chungsoo; Suyan chungsyu; Suyan jeongbaek; Tamhada synergy moisturizing mask; Tamnamo essential hair; Tangerin whitening hand; Tangerine hand; Tears lubricant; Tears naturale forte; Ten ten cell; Thanks 12 aqua water toner; Thanks 12 rich caviar fo am cleanser; The all medicare v pla synergy moisturizing mask; The bamboo of damyang moisture toner; The first ampoule essence; The first ampoule essence bb; The first whitening sleeping mask; The prestige; The21 days hair nutrient serum; Therapeutic hand cream; Timeless egf power toner; Timeless placenta bound; Tmc-a anti hairloss; Tomatox magic massage pack; Tonymoly bcdation all master; Tonymoly bio ex active cell-whitening cream; Tonymoly bio ex active-cell essence; Tonymoly bio ex active-cell eye-face cream; Tonymoly bio ex active-cell night cream; Tonymoly bio ex active-cell real serum; Tonymoly face mix skin makeup base 02 mix lavendar spf20; Tonymoly fitting foundation 23 spf30 natural beige; Tonymoly intense care gold syn-ake wrinkle cream; Tonymoly intense care gold syn-ake wrinkle perfector; Tonymoly intense care snail; Tonymoly latte art cappuccino cre am in scrub; Tonymoly my sunny all in one sun spf45; Tonymoly my sunny body and family sun cream; Tonymoly my sunny touch free sun block; Tonymoly my sunny watery sun gel; Tonymoly naturalth goat milk premium eye; Tonymoly pandas dream brightening eye base; Tonymoly pandas dream white hand cream; Tonymoly placenta bound toner; Tonymoly premium rx camel milk cream; Tonymoly premium rx horse yu hand cream; Tonymoly pure farm pig collagen hydrogel mask; Tonymoly timeless ferment snail cream; Tonymoly timeless ferment snail emulsion; Tonymoly timeless ferment snail essence; Tonymoly timeless ferment snail eye cream; Tonymoly timeless ferment snail toner; Tonymoly timeless gf-factor cream; Tonymoly timeless gf-factor emulsion; Tonymoly timeless gf-factor toner; Trihydroxypropane; Truezyme active enzyme scalp and hair; Truezyme baby face and body; Truezyme baby shampooandbody wash; Truezyme healing multi tonic; Truezyme healing scalp tonic; Truezyme water lock body wash; Truffle ex wrinkle toner; Ultra hydra; Ultra hydra serum; Ultra hydra toner; Ultra hydro facial foam; Ultra moisturizing essence; Ultra nutrition ampoule; Ultra nutrition day; Ultra nutrition eye; Ultra nutrition night; Ultra nutrition toner; Ultra rejuve 7s ampoule; Ultra soothing mask 1pc; V shaping ampoule; Vela contour; Vela contour neck and chin toning firming serum; Vela shape activ; Vela shape activ body firming toning tightening; Vela shape reaffirming; Vela shape reaffirming body firming toning tightening; Vela shape resculpting; Vela shape resculpting body firming toning tightening; Visine all day comfort dry eye relief; Visine contact lens; Visine dry eye relief; Visine for dry eye environmental relief; Visine for dry eye eye revival; Visine for dry eye tired eye relief; Visine for dry eye true tears; Visine tears dry eye relief; Visine tears long lasting dry eye relief; Visine tired eye dry eye relief; Visine tired eye relief lubricant; Vision clarity eye drop; Vita10 brightening capsulemask; Vitabrid c12 atosis; Vitalising tonic; Vitalizer; Vitalizer c10 ampoule; Vitalizer laser aid bb; Vitalizing energizing moisturizing cream; Vitalizing energizing nourishing cream; Vitalizing energizing serum; Vitamin a velvet mask; Vitamin b5 toner; Vitamin b5 velvet mask; Vitamin c velvet mask; Vitamin e velvet mask; Vitamin f velvet mask; Vitamin h velvet mask; Volcanic homme foam cleanser; Volcanic pore heating; Volcanic pore heating gel; Volcanic pore refining mask; Volcanic pore tightening mask; Volvian golden silkworm water bomb; Walgreens adult glycerin laxative; Walgreens children glycerin laxative; Walgreens dual action lubricant eye; Wannabe bodyliner; Water balance sheet mask; Wellage 4d gold essence; Wellage black aqua roll mask pack; Wellage concentrated illumination expert; Wellage deep layer moisturizer sleeping mask; Wellage double lift mask pack moisturizing hydrogel mask; Wellage intensive repair serum; Wellage post procedure; Wellage vita blue injec-tion mask; Wellage vita red injec-tion mask; Wellage vital nio enrich; Wellage vital nio nutritional rich; Wellage vital nio waterlock toner; Wellage white aqua roll mask pack; Wellage wrinkle reduced vials; Wettrust gold; Wettrust gold vaginal care essence; Wettrust inclear; White flower cheollasoo foi l mask sheet; White flower mung bean foi l mask sheet; White flower pig collagen foi l mask sheet; Woodward's glycerin suppositories for adults; Wrinkle repair sheet mask; Yeast ultra deep cleansing whip foam; Yejimiin feminine wash jeju herb; Yeo danbi; Yozum secret; Znsp ampoule; Znsp repair; Zumiskin honey boom; Ölsüß',\n",
       "       'Mgadp', 'Chloride',\n",
       "       ...\n",
       "       'Dnc011953', '4-cyanophenol', '4-cinnamylglutamic acid',\n",
       "       '4-cyano-pyrimidine, 9', 'Dnc012072', '4-copab', 'Dnc012101', '4-cmtb',\n",
       "       '4-cl-marsanidine', 'Dnc012352'],\n",
       "      dtype='object', name='Chemical Compound', length=57820)"
      ]
     },
     "execution_count": 236,
     "metadata": {},
     "output_type": "execute_result"
    }
   ],
   "source": [
    "# chempert_drugs = pd.read_csv('/home/sbl/Documents/Chempert Database/Target of Perturbagens.csv')\n",
    "chempert_drugs['Chemical Compound'].value_counts().index"
   ]
  },
  {
   "cell_type": "code",
   "execution_count": 255,
   "metadata": {},
   "outputs": [
    {
     "data": {
      "text/plain": [
       "{'16h',\n",
       " '6-hydroxymelatonin',\n",
       " '991',\n",
       " 'Abemaciclib',\n",
       " 'Abexinostat',\n",
       " 'Abiraterone',\n",
       " 'Acalabrutinib',\n",
       " 'Acetate',\n",
       " 'Acetone',\n",
       " 'Acrylamide',\n",
       " 'Afatinib',\n",
       " 'Aldoxorubicin',\n",
       " 'Alisertib',\n",
       " 'Alpelisib',\n",
       " 'Alvocidib',\n",
       " 'Amiloride',\n",
       " 'Aminopterin',\n",
       " 'Amonafide',\n",
       " 'Amuvatinib',\n",
       " 'Ang',\n",
       " 'Anisomycin',\n",
       " 'Antimycin',\n",
       " 'Apigenin',\n",
       " 'Apilimod',\n",
       " 'Arachidonic acid',\n",
       " 'Arecoline',\n",
       " 'Arsenic',\n",
       " 'Atrasentan',\n",
       " 'Auxin',\n",
       " 'Azeliragon',\n",
       " 'Bafetinib',\n",
       " 'Barasertib',\n",
       " 'Baricitinib',\n",
       " 'Bendamustine',\n",
       " 'Benzoic acid',\n",
       " 'Berberine',\n",
       " 'Binimetinib',\n",
       " 'Biperiden',\n",
       " 'Birinapant',\n",
       " 'Brigatinib',\n",
       " 'Brivanib',\n",
       " 'Busulfan',\n",
       " 'C3',\n",
       " 'C646',\n",
       " 'Cabozantinib',\n",
       " 'Calmidazolium',\n",
       " 'Calmidazolium chloride',\n",
       " 'Canertinib',\n",
       " 'Cantharidin',\n",
       " 'Carmofur',\n",
       " 'Casin',\n",
       " 'Cediranib',\n",
       " 'Cerivastatin',\n",
       " 'Chaetocin',\n",
       " 'Chidamide',\n",
       " 'Chloroxine',\n",
       " 'Cilengitide',\n",
       " 'Cloxyquin',\n",
       " 'Cobalt',\n",
       " 'Cobimetinib',\n",
       " 'Combretastatin',\n",
       " 'Compound 18',\n",
       " 'Crenolanib',\n",
       " 'Curcumin',\n",
       " 'Cycloheximide',\n",
       " 'Cyclopamine',\n",
       " 'Dacomitinib',\n",
       " 'Danusertib',\n",
       " 'Dinaciclib',\n",
       " 'Diosmetin',\n",
       " 'Dovitinib',\n",
       " 'Duvelisib',\n",
       " 'Egf',\n",
       " 'Elesclomol',\n",
       " 'Ellipticine',\n",
       " 'Emetine',\n",
       " 'Encorafenib',\n",
       " 'Enobosarm',\n",
       " 'Entinostat',\n",
       " 'Entospletinib',\n",
       " 'Enzastaurin',\n",
       " 'Epigallocatechin',\n",
       " 'Erastin',\n",
       " 'Estrogen',\n",
       " 'Ethisterone',\n",
       " 'Etomoxir',\n",
       " 'Evodiamine',\n",
       " 'Fedratinib',\n",
       " 'Fenbendazole',\n",
       " 'Fenretinide',\n",
       " 'Fgf2',\n",
       " 'Filgotinib',\n",
       " 'Finerenone',\n",
       " 'Fingolimod',\n",
       " 'Flubendazole',\n",
       " 'Foretinib',\n",
       " 'Formoterol',\n",
       " 'Galeterone',\n",
       " 'Galunisertib',\n",
       " 'Ganetespib',\n",
       " 'Geldanamycin',\n",
       " 'Gilteritinib',\n",
       " 'Givinostat',\n",
       " 'Glasdegib',\n",
       " 'Glucose',\n",
       " 'Go 6983',\n",
       " 'Gossypol',\n",
       " 'Halofuginone',\n",
       " 'Heat',\n",
       " 'Hemin',\n",
       " 'Hydroxychloroquine',\n",
       " 'Icaritin',\n",
       " 'Icotinib',\n",
       " 'Idasanutlin',\n",
       " 'Indisulam',\n",
       " 'Iniparib',\n",
       " 'Interferon',\n",
       " 'Iohexol',\n",
       " 'Isoquercitrin',\n",
       " 'Ispinesib',\n",
       " 'Itacitinib',\n",
       " 'Ixazomib',\n",
       " 'Ketotifen',\n",
       " 'L-arabinose',\n",
       " 'Lactate',\n",
       " 'Lapatinib',\n",
       " 'Lasofoxifene',\n",
       " 'Lenvatinib',\n",
       " 'Leptin',\n",
       " 'Leucovorin',\n",
       " 'Leuprolide',\n",
       " 'Linifanib',\n",
       " 'Linopirdine',\n",
       " 'Linsitinib',\n",
       " 'Lonafarnib',\n",
       " 'Luteolin',\n",
       " 'Mannitol',\n",
       " 'Melphalan',\n",
       " 'Merbarone',\n",
       " 'Mercuric chloride',\n",
       " 'Metaphit',\n",
       " 'Mithramycin',\n",
       " 'Mocetinostat',\n",
       " 'Momelotinib',\n",
       " 'Motesanib',\n",
       " 'Navarixin',\n",
       " 'Navitoclax',\n",
       " 'Neomycin',\n",
       " 'Neratinib',\n",
       " 'Niclosamide',\n",
       " 'Nicotinamide',\n",
       " 'Nilotinib',\n",
       " 'Nintedanib',\n",
       " 'Niraparib',\n",
       " 'Nobiletin',\n",
       " 'Nocodazole',\n",
       " 'Nutlin-3',\n",
       " 'Oestrogen',\n",
       " 'Oleic acid',\n",
       " 'Oprozomib',\n",
       " 'Osimertinib',\n",
       " 'Pacritinib',\n",
       " 'Palbociclib',\n",
       " 'Paraquat',\n",
       " 'Parthenolide',\n",
       " 'Pazopanib',\n",
       " 'Penfluridol',\n",
       " 'Perfluorodecanoic acid',\n",
       " 'Perfluoroheptanoic acid',\n",
       " 'Perfluorooctanoic acid',\n",
       " 'Perfluoroundecanoic acid',\n",
       " 'Perifosine',\n",
       " 'Pevonedistat',\n",
       " 'Phenanthrene',\n",
       " 'Phenelzine',\n",
       " 'Phenothiazine',\n",
       " 'Pilaralisib',\n",
       " 'Pimasertib',\n",
       " 'Pirarubicin',\n",
       " 'Pixantrone',\n",
       " 'Platinum',\n",
       " 'Poly',\n",
       " 'Ponatinib',\n",
       " 'Pracinostat',\n",
       " 'Prinomastat',\n",
       " 'Purmorphamine',\n",
       " 'Puromycin',\n",
       " 'Putrescine',\n",
       " 'Pyrazolanthrone',\n",
       " 'Quizartinib',\n",
       " 'Refametinib',\n",
       " 'Resiquimod',\n",
       " 'Resminostat',\n",
       " 'Reversine',\n",
       " 'Ribociclib',\n",
       " 'Ricolinostat',\n",
       " 'Rigosertib',\n",
       " 'Rita',\n",
       " 'Rofecoxib',\n",
       " 'Rotenone',\n",
       " 'Rucaparib',\n",
       " 'Ruxolitinib',\n",
       " 'Ryuvidine',\n",
       " 'Saracatinib',\n",
       " 'Saridegib',\n",
       " 'Satraplatin',\n",
       " 'Savolitinib',\n",
       " 'Saxagliptin',\n",
       " 'Scriptaid',\n",
       " 'Selinexor',\n",
       " 'Selumetinib',\n",
       " 'Semagacestat',\n",
       " 'Senicapoc',\n",
       " 'Serotonin',\n",
       " 'Sodium selenite',\n",
       " 'Sonidegib',\n",
       " 'Sorafenib',\n",
       " 'Sotrastaurin',\n",
       " 'Stattic',\n",
       " 'Sulconazole',\n",
       " 'Sunitinib',\n",
       " 'T0901317',\n",
       " 'Tacedinaline',\n",
       " 'Talampanel',\n",
       " 'Talazoparib',\n",
       " 'Tandutinib',\n",
       " 'Tariquidar',\n",
       " 'Tasquinimod',\n",
       " 'Tazemetostat',\n",
       " 'Telatinib',\n",
       " 'Temozolomide',\n",
       " 'Thapsigargin',\n",
       " 'Thioacetamide',\n",
       " 'Thiotepa',\n",
       " 'Tirapazamine',\n",
       " 'Tivantinib',\n",
       " 'Tivozanib',\n",
       " 'Tofacitinib',\n",
       " 'Toremifene',\n",
       " 'Torin-1',\n",
       " 'Torin1',\n",
       " 'Trametinib',\n",
       " 'Triapine',\n",
       " 'Triciribine',\n",
       " 'Triptolide',\n",
       " 'Troglitazone',\n",
       " 'Tunicamycin',\n",
       " 'U0126',\n",
       " 'Vancomycin',\n",
       " 'Varlitinib',\n",
       " 'Vegfa',\n",
       " 'Vincristine',\n",
       " 'Vindesine',\n",
       " 'Volasertib',\n",
       " 'Volinanserin',\n",
       " 'Voreloxin',\n",
       " 'Wiskostatin',\n",
       " 'Y-27632',\n",
       " 'Zibotentan',\n",
       " 'Ziram'}"
      ]
     },
     "execution_count": 255,
     "metadata": {},
     "output_type": "execute_result"
    }
   ],
   "source": [
    "set([i.lstrip() for i in archs4_rumma_meta['Treatment'].dropna().values]).intersection(set([i for i in chempert_drugs['Chemical Compound'].value_counts().index]))"
   ]
  },
  {
   "cell_type": "code",
   "execution_count": 263,
   "metadata": {},
   "outputs": [
    {
     "data": {
      "text/plain": [
       "Treatment\n",
       " untreated                                                 13436\n",
       " DMSO                                                       7446\n",
       " none                                                       3017\n",
       " Control                                                    2997\n",
       " None                                                       2739\n",
       " Untreated                                                  2650\n",
       " treated                                                    2642\n",
       " control                                                    2441\n",
       " nucleofection                                              1730\n",
       " 1microg/mL doxycycline; 24 hours                           1675\n",
       " NA                                                         1658\n",
       " time (hrs) 48                                              1545\n",
       " PDOX                                                       1441\n",
       " Placebo                                                    1413\n",
       " PALLY_48_hours_LY_48_hours                                 1299\n",
       " POST                                                       1234\n",
       " Vehicle                                                    1154\n",
       " PRE                                                        1126\n",
       " no                                                         1075\n",
       " vehicle                                                     981\n",
       " Ethanol                                                     876\n",
       " Dexamethasone                                               864\n",
       " lentiviral transduction of a DDR-focused shRNA library      862\n",
       " Water                                                       841\n",
       " Tunicamycin                                                 794\n",
       " Gardiquimod                                                 779\n",
       " Interferon Gamma                                            778\n",
       " B-cell activating factor                                    778\n",
       " MethodBlank_0                                               746\n",
       " PALLY_48_hours_LY_12_hours                                  738\n",
       " No                                                          728\n",
       " sgRNA transfected                                           720\n",
       " UNTR                                                        666\n",
       " UNTREATED                                                   646\n",
       " Insulin-like Growth Factor 1                                643\n",
       " N/A                                                         614\n",
       "result Definite Cure                                         568\n",
       "_type knockout                                               558\n",
       " PBS                                                         532\n",
       " Sunitinib                                                   506\n",
       " CAR T-cells                                                 495\n",
       "_type compound                                               480\n",
       " VPA                                                         477\n",
       " Neural induction medium (see protocols section below)       446\n",
       " LPS                                                         442\n",
       " Imatinib                                                    428\n",
       " relapse                                                     410\n",
       " Mock                                                        404\n",
       " mock                                                        404\n",
       " diagnosis                                                   402\n",
       "Name: count, dtype: int64"
      ]
     },
     "execution_count": 263,
     "metadata": {},
     "output_type": "execute_result"
    }
   ],
   "source": [
    "archs4_rumma_meta['Treatment'].dropna().value_counts().head(50)"
   ]
  },
  {
   "cell_type": "code",
   "execution_count": 291,
   "metadata": {},
   "outputs": [],
   "source": [
    "silhouette_score = []\n",
    "for i in rummaDB_meta_keys:\n",
    "    data_dict = {}\n",
    "    data_dict['Series'] = i\n",
    "    data_dict['Silhouette_Score'] = rummaDB_meta[i]['silhouette_score']\n",
    "    silhouette_score.append(data_dict)\n",
    "silhouette_score = pd.DataFrame(silhouette_score)"
   ]
  },
  {
   "cell_type": "code",
   "execution_count": 294,
   "metadata": {},
   "outputs": [
    {
     "data": {
      "text/html": [
       "<div>\n",
       "<style scoped>\n",
       "    .dataframe tbody tr th:only-of-type {\n",
       "        vertical-align: middle;\n",
       "    }\n",
       "\n",
       "    .dataframe tbody tr th {\n",
       "        vertical-align: top;\n",
       "    }\n",
       "\n",
       "    .dataframe thead th {\n",
       "        text-align: right;\n",
       "    }\n",
       "</style>\n",
       "<table border=\"1\" class=\"dataframe\">\n",
       "  <thead>\n",
       "    <tr style=\"text-align: right;\">\n",
       "      <th></th>\n",
       "      <th>Series</th>\n",
       "      <th>Silhouette_Score</th>\n",
       "    </tr>\n",
       "  </thead>\n",
       "  <tbody>\n",
       "    <tr>\n",
       "      <th>16059</th>\n",
       "      <td>GSE61566</td>\n",
       "      <td>0.995457</td>\n",
       "    </tr>\n",
       "    <tr>\n",
       "      <th>7859</th>\n",
       "      <td>GSE180788</td>\n",
       "      <td>0.991515</td>\n",
       "    </tr>\n",
       "    <tr>\n",
       "      <th>4317</th>\n",
       "      <td>GSE185069</td>\n",
       "      <td>0.990369</td>\n",
       "    </tr>\n",
       "    <tr>\n",
       "      <th>3758</th>\n",
       "      <td>GSE115407</td>\n",
       "      <td>0.990203</td>\n",
       "    </tr>\n",
       "    <tr>\n",
       "      <th>15502</th>\n",
       "      <td>GSE107006</td>\n",
       "      <td>0.989708</td>\n",
       "    </tr>\n",
       "    <tr>\n",
       "      <th>...</th>\n",
       "      <td>...</td>\n",
       "      <td>...</td>\n",
       "    </tr>\n",
       "    <tr>\n",
       "      <th>6531</th>\n",
       "      <td>GSE71284</td>\n",
       "      <td>-2.000000</td>\n",
       "    </tr>\n",
       "    <tr>\n",
       "      <th>1687</th>\n",
       "      <td>GSE216036</td>\n",
       "      <td>-2.000000</td>\n",
       "    </tr>\n",
       "    <tr>\n",
       "      <th>6505</th>\n",
       "      <td>GSE69157</td>\n",
       "      <td>-2.000000</td>\n",
       "    </tr>\n",
       "    <tr>\n",
       "      <th>14866</th>\n",
       "      <td>GSE95374</td>\n",
       "      <td>-2.000000</td>\n",
       "    </tr>\n",
       "    <tr>\n",
       "      <th>8906</th>\n",
       "      <td>GSE157725</td>\n",
       "      <td>-2.000000</td>\n",
       "    </tr>\n",
       "  </tbody>\n",
       "</table>\n",
       "<p>16228 rows × 2 columns</p>\n",
       "</div>"
      ],
      "text/plain": [
       "          Series  Silhouette_Score\n",
       "16059   GSE61566          0.995457\n",
       "7859   GSE180788          0.991515\n",
       "4317   GSE185069          0.990369\n",
       "3758   GSE115407          0.990203\n",
       "15502  GSE107006          0.989708\n",
       "...          ...               ...\n",
       "6531    GSE71284         -2.000000\n",
       "1687   GSE216036         -2.000000\n",
       "6505    GSE69157         -2.000000\n",
       "14866   GSE95374         -2.000000\n",
       "8906   GSE157725         -2.000000\n",
       "\n",
       "[16228 rows x 2 columns]"
      ]
     },
     "execution_count": 294,
     "metadata": {},
     "output_type": "execute_result"
    }
   ],
   "source": [
    "silhouette_score.sort_values(by='Silhouette_Score', ascending=False)"
   ]
  },
  {
   "cell_type": "code",
   "execution_count": 296,
   "metadata": {},
   "outputs": [
    {
     "data": {
      "image/png": "[encoded data removed]",
      "text/plain": [
       "<Figure size 640x480 with 1 Axes>"
      ]
     },
     "metadata": {},
     "output_type": "display_data"
    }
   ],
   "source": [
    "sns.histplot(silhouette_score['Silhouette_Score'])\n",
    "plt.title('Silhouette_Score Across different')\n",
    "plt.show()"
   ]
  },
  {
   "cell_type": "markdown",
   "metadata": {},
   "source": [
    "#### ARCHS4 and Rumma overlap"
   ]
  },
  {
   "cell_type": "code",
   "execution_count": 225,
   "metadata": {},
   "outputs": [
    {
     "data": {
      "text/plain": [
       "<seaborn.axisgrid.FacetGrid at 0x76a4512b5540>"
      ]
     },
     "execution_count": 225,
     "metadata": {},
     "output_type": "execute_result"
    },
    {
     "data": {
      "image/png": "[encoded data removed]",
      "text/plain": [
       "<Figure size 500x500 with 1 Axes>"
      ]
     },
     "metadata": {},
     "output_type": "display_data"
    }
   ],
   "source": [
    "sns.displot(list(archs4_rumma_meta['Treatment'].value_counts().values))"
   ]
  },
  {
   "cell_type": "code",
   "execution_count": 219,
   "metadata": {},
   "outputs": [],
   "source": [
    "# archs4[archs4['characteristics_ch1'].str.contains('reprogramming|time series|response|treat|perturb', case=False)]"
   ]
  }
 ],
 "metadata": {
  "kernelspec": {
   "display_name": "Python 3",
   "language": "python",
   "name": "python3"
  },
  "language_info": {
   "codemirror_mode": {
    "name": "ipython",
    "version": 3
   },
   "file_extension": ".py",
   "mimetype": "text/x-python",
   "name": "python",
   "nbconvert_exporter": "python",
   "pygments_lexer": "ipython3",
   "version": "3.10.12"
  }
 },
 "nbformat": 4,
 "nbformat_minor": 2
}
